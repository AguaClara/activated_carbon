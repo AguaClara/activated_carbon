{
  "nbformat": 4,
  "nbformat_minor": 0,
  "metadata": {
    "colab": {
      "name": "Activated_Carbon_Spring2022_Final_Report.ipynb",
      "provenance": [],
      "collapsed_sections": [],
      "include_colab_link": true
    },
    "kernelspec": {
      "name": "python3",
      "display_name": "Python 3"
    }
  },
  "cells": [
    {
      "cell_type": "markdown",
      "metadata": {
        "id": "view-in-github",
        "colab_type": "text"
      },
      "source": [
        "<a href=\"https://colab.research.google.com/github/AguaClara/activated_carbon/blob/master/Activated_Carbon_Spring2022_Final_Report.ipynb\" target=\"_parent\"><img src=\"https://colab.research.google.com/assets/colab-badge.svg\" alt=\"Open In Colab\"/></a>"
      ]
    },
    {
      "cell_type": "markdown",
      "metadata": {
        "id": "TLAmaRBfCmiy"
      },
      "source": [
        "# **Activated Carbon, Spring 2022**\n",
        "#### Ian Lillie, Annie Hsu, Nhi Nguyen, Zachary Kwon\n",
        "#### 05/10/2022"
      ]
    },
    {
      "cell_type": "markdown",
      "metadata": {
        "id": "BfeU4k7OCphn"
      },
      "source": [
        "## **Abstract**\n",
        "\n",
        "The Activated Carbon Subteam aims to find if the use of activated carbon would be efficient to use in AguaClara water treatment plants and if so, calculate an optimal dosage of activated carbon. This is the fourth semester that this team is included as a part of AguaClara's Particle Removal and Dissolved Species Subteams. This semester, the team is aiming to do more research into the incorporation of activated carbon for our system and how effective it is in forming more densed flocs, which can contribute to the removal of humic acid and natural organic matter in general. In the future, Activated Carbon hopes to ultimately upscale the process so that it can be implemented in AguaClara plants.\n",
        "\n"
      ]
    },
    {
      "cell_type": "markdown",
      "metadata": {
        "id": "EqtwU-gRCrj9"
      },
      "source": [
        "## **Introduction**\n",
        "Activated Carbon's goal is to find a new and efficient way to implement the use of activated carbon before the flocculation unit process to improve the efficiency of the AguaClara water treatment plants. This research will expand the mission of providing safe water on tap because it is based off of a new design where both powdered activated carbon (PAC), as a filtrant, and polyaluminum chloride (PACl), as a coagulant, would be used to remove particles. The reason that this area is being researched is that coagulant is not very efficient at binding to and removing organic matter in drinking water. Activated carbon is used in many household drinking water filters and fish tank filters to remove harmful organic molecules in the filtration step of the water treatment process and to increase the clarity and potability of the water. If this process is found to be viable, it is important for the process to be scaled up so that it can be used in larger scale plants and not just in the lab setting. If the use of a mixture of activated carbon and polyaluminum chloride is found to be an efficient process, it could revolutionize the efficiency of the AguaClara plants and be used further in other water treatment plants.\n",
        "\n",
        "In this research, humic acid will be used as a contaminant as humic acid is commonly present in groundwater at concentrations ranging from under 1mg/L to 30mg/L, and its removal is a relevant problem in wastewater treatment due its potential for forming carcinogens during disinfection and chlorination (Grzegorzek & Majewska-Nowak 2017). Humic acid also has a brown color and therefore, ultraviolet spectrophotometry in addition to turbidity may be used to determine the clarity of the water. The Activated Carbon Subteam is building on the work of the Humic Acid Subteam by using the values of the optimal coagulant dosage that the Humic Acid Subteam had found previously. The values of wavelength of maximum absorbance of humic acid will also be used to construct a calibration curve and use data from a spectrophotometer. The Activated Carbon subteam is essentially expanding upon the work of the Humic Acid  team and is trying use a new type of flocculation system to find an optimal coagulant dosage and powdered activated carbon dosage.\n",
        "\n",
        "\n"
      ]
    },
    {
      "cell_type": "markdown",
      "metadata": {
        "id": "4ipRRAXDlk31"
      },
      "source": [
        "## **Literature Review**\n",
        "PAC is commonly used in water treatment for the removal of dissolved organic compounds. Applying PAC to a floc blanket reactor (FBR) system that removes atrazine, Campos et. al. conducted experimental trials that measured the steady-state removal of atrazine against different dosages (2mg/l, 4mg/l, and 8mg/l) of PAC. Their results indicated that the dosage of 8mg/l was able to achieve the highest average atrazine removal rate of 93% (Campos et. al. 2000). The effects of carbon dose and hydraulic loading rate on carbon concentration and carbon retention time (CRT) in the floc blanket were also evaluated. As reported, for a PAC dose of 10mg/l, a reduction in the CRT from 25 to 10 hours resulted in an increase in the hydraulic loading rate from 1 to 1.5m/h, which has important engineering implications since this result suggests that a decrease in CRT may reduce PAC absorption efficiency (Campos et. al. 2000). Thus, careful considerations must be made when deciding on process flow rates during experimental trials since varying the residence time in the upflow blanket reactor may result in a less desirable PAC absorption efficiency.\n",
        "In terms of methods of application, PAC is most generally applied in water treatment plants at the rapid mix unit in order to provide enough absorption time as the water flows through the flocculation and sedimentation units. According to a report published by the National Research Council (US) Safe Drinking Water Committee, although PAC has conventionally been used to treat organic compounds that cause offensive taste and odor, large molecules such as humic acid diffuse slowly, and it is very likely that absorption equilibrium cannot be achieved in the available residence time of the carbon (National Research Council 1980). In addition, when PAC is applied to water containing chlorine, the carbon will act as a reducing agent, which will increase the required chlorine to achieve disinfection. These results concern a system that may not involve efficient removal of PAC after the sedimentation unit, thus more research is recommended to determine whether or not a PAC and polyaluminum chloride (PACl) conjoined system is justified.\n",
        "\n",
        "Examining a more recently published article written by Tomaszewska et. al. suggests promising results from a PAC and PACl conjoined system. Jar tests simulating a water treatment system using PAC and PACl (coagulant) to remove humic acid and phenol were conducted with two different methods of process performance: (1) coagulant was added after 60-min adsorption on PAC and (2) coagulant and PAC were added simultaneously. Results suggested that the former method was more desirable: when the adsorption was conducted before coagulation, not only was a more complete removal of phenol achieved, flocs also exhibited a greater surface, which enlarged their settleability (Tomaszewska et. al. 2004). The article concluded that the effectiveness of organics removal by coagulation without the addition of PAC was much lower.\n",
        "\n",
        "After reviewing a recent paper by Zhen Wu et. al. that denoted the effect of kaolin clay in aiding the removal of humic acid in water, concentrations of stock solutions for jar tests were determined. The research paper suggested that the effectiveness of clay in removing humic acid is optimized when PACl is deficient (Zhen Wu et. al 2020). However, upon adapting the concentration values for our jar test, the concentration of PACl was increased on the basis that activated carbon was not tested on its ability to replace or subsidize PACl in our experiment. Besides, all other concentrations except that of PAC were calculated based on the values suggested by the paper. We are planning to run another jar test based on this article and another titled “Coagulation and Flocculation in Water and Wastewater Treatment” from IWA Publishing, which give preliminary concentrations which we could use to simulate our experiment on a smaller scale."
      ]
    },
    {
      "cell_type": "markdown",
      "source": [
        "## **Previous Work**\n",
        "\n",
        "As of Spring 2020, Activated Carbon became a new addition to the Dissolved Species Removal Research Teams of AguaClara Cornell. The Activated Carbon subteam was established on the basis that a PAC and PACl conjoined system within upflow blanket reactors (FBRs) could reduce retention time and lead to more efficient removal of dissolved organic compounds within AguaClara’s current water treatment process, producing higher quality water with potentially lower cost. Due to similarities in the nature of experimental work carried by the Activated Carbon and Humic Acid subteams, results and experimental models from previous Humic Acid subteams can be examined and used but with an additional consideration of introducing PAC into the experimental setup.\n",
        "The Fall 2017 and Spring 2018 Humic Acid sub-teams identified optimal coagulant dosages for 5mg/L and 10mg/L HA concentrations (shown in Table 1 below), which could be referenced in testing for the optimal dosage ratios of PAC to coagulant for specific HA concentrations. In addition, the Spring 2018 Humic Acid subteam found that as HA concentration increases, the optimal coagulant dosage drops down slightly. However, the team cannot conclude that increasing HA concentration will decrease the optimal coagulant dosage, as this does not follow Beer's Law. This suggests that wider ranges of HA concentrations should also be tested for its optimal PAC to PACl dosage ratios for a more comprehensive analysis.\n",
        "<br/><br/>\n",
        "**Table 1:** Results from Spring 2018 Humic Acid Team\n",
        "\n",
        "| Humic Acid Concentration (mg/L) | Optimal Coagulant Dosage (mg/L) | \n",
        "| :---: | :---: | \n",
        "| 5 | 1.6-1.8 | \n",
        "| 10 | 1.3 | \n",
        "\n",
        "<br/><br/>\n",
        "In the Fall 2019 semester, the Humic Acid team investigated whether it would be possible to form flocs using coagulant only (without the presence of clay to help the particles flocculate better). They found that flocs did in fact form, however, they were too small to form a floc blanket, and thus, the effluent water’s absorbance value was not as low as anticipated. Due to those results, this semester, our team’s goal is to investigate whether activated carbon is a more suitable method of removing humic acid from water that does not have clay.\n",
        "\n",
        "In Spring 2020, the Activated Carbon subteam designed and implemented a set up for experimentation. (Fig. 1 and Fig. 2). \n",
        "<br>\n",
        "\n",
        "In Fall 2021, the Activated Carbon subteam has designed a method of powderizing the activated carbon without a mortar and pestle. Several different techniques were trialed using different lab equipment, and it was found that the most efficient way was to use a PVC float valve and a large beaker with a minimal amount of carbon. Table 4 contains the comparisons in textures of PAC  using different methods The procedure for the most optimal method was included in the procedure section.\n",
        "\n",
        "Due to the shape resembling that of a pestle and the material being rigid, using the PVC Float Valve to crush the Activated Carbon in the beaker was surprisingly effective. After roughly 25 minutes of crushing, much of the Activated Carbon (~10 grams used as a base test) was sufficiently powdered to be filtered through. <br/><br/>\n",
        "**Table 2:** Comparison of powderizing methods\n",
        "<br/>\n",
        "<center>\n",
        "<img src= \"https://drive.google.com/uc?export=view&id=1f5fEP9wdNwffkvoWYbAC_vyjmMGIMGdO\" height=400>\n",
        "</center>\n"
      ],
      "metadata": {
        "id": "lX8vEAXzHEMs"
      }
    },
    {
      "cell_type": "markdown",
      "source": [
        "## **Methods**\n",
        "<br/>\n",
        "   <center>\n",
        "    <img src=\"https://github.com/AguaClara/activated_carbon/blob/master/Apparatus.png?raw=true\" height=500>\n",
        "    </center>\n",
        "\n",
        "Figure 1: Experimental Apparatus\n",
        " <br/><br/>\n",
        "   <center>\n",
        "    <img src =\"https://github.com/AguaClara/activated_carbon/blob/d298f175530d9bfe43541f7443d6c4f2b33e001e/Experimental%20Setup%20042922.png?raw=true\" height = 400>\n",
        "  </center>\n",
        "\n",
        "Figure 2: Diagram of apparatus\n",
        "\n",
        "<br/>\n",
        "\n",
        "**Table 3:** Data Collected from the Activated Carbon Subteam in Spring 2020\n",
        "<br/>\n",
        "    <center>\n",
        "    <img src=\"https://github.com/brensolc/activated_carbon/blob/master/Images/experiments.JPG?raw=true\" height=150>\n",
        "</center>\n",
        " \n",
        "<br/><br/>\n",
        "### Experimental Setup\n",
        "- 5 Golander pumps\n",
        "- 1 Water pump\n",
        "- 2 Turbidimeters\n",
        "- 1-inch wide sedimentation tube (top half = 36.12 cm long, bottom half = 48.15 cm long)\n",
        "- Flocculator\n",
        "- 3 1-litre stock tanks\n",
        "- Spectrophotometer UV-1600PC\n",
        "- Stir plate\n",
        "- Stir bar\n",
        "- 50 mg/L Polyaluminum Chloride (PACl) Stock Solution\n",
        "- 5 mg/L Humic Acid Stock Solution\n",
        "- 5000 mg/L Powdered Activated Carbon (PAC) Stock Solution\n",
        "- Quartz cuvettes\n",
        "- Microbore tubing\n",
        "- PVC Float Valve\n",
        "- Beaker (Plastic, 500 mL)\n",
        "\n",
        "Refer to Previous Work for schematic and image of apparatus set-up\n",
        "<br/><br/>\n",
        "### Procedure\n",
        "The steps outlined below describe the process flow procedure.\n",
        "\n",
        "1. Place at least 5 g of activated carbon in a 500 mL beaker.\n",
        "2. Grind the activated carbon using the float in a similar fashion to a mortar and pestle until the activated carbon is able to pass through a filter. Repeat until 5 g of powdered activated carbon is obtained. \n",
        "3. Calibrate the spectrophotometer and other necessary equipment.\n",
        "4. Water flows through the tap to the main tube.\n",
        "5. Humic acid flows through the stock solution and is added to the water.\n",
        "6. Powdered activated carbon flows through the stock and is added to the system.\n",
        "7. The flow passes through a turbidimeter.\n",
        "8. Coagulant flows through the stock solution to the main tube.\n",
        "9. The flow passes through a flocculator and then to the sedimentation tube.\n",
        "10. The water goes to a turbidimeter.\n",
        "11. Samples are taken to measure absorbance using the spectrophotometer.\n",
        "12. The effluent goes to the waste pipe.\n",
        " \n",
        "The baseline experiment, which will be used to establish the least amount of coagulant for 5 mg/L of humic acid necessary for floc formation. The procedure is as detailed above, except with the absence of the addition of activated carbon in Step 4 above. Table 3 contains the rpms that will be used, which were all calculated with Python code (found in the Python code section below).\n",
        "<br/><br/>\n",
        "**Table 4:** Calculated Parameter Values for Baseline Experiment\n",
        "\n",
        "|Trial|PACl Concentration (mg/L)|PACl Flow Rate (mL/s)| PACl rpm| Humic Acid Concentration (mL/s)| Humic acid flow rate (mL/s) |Humic acid rpm| Water flow rate (mL/s)|\n",
        "|:---:|:---:|:---:|:---:|:---:|:---:|:---:|:---:|\n",
        "|1|0.5|0.005067|0.2607|5|0.5067|26.0666|0.5067|\n",
        "|2|1|0.01013|0.5213|5|0.5067|26.0666|0.5067|\n",
        "|3|1.5|0.0152|0.7819|5|0.5067|26.0666|0.5067|\n",
        "|4|2|0.02027|1.043|5|0.5067|26.0666|0.5067|\n",
        "|5|2.5|0.02534|1.303|5|0.5067|26.0666|0.5067|\n",
        "|6|3|0.03040|1.564|5|0.5067|26.0666|0.5067|\n"
      ],
      "metadata": {
        "id": "Y-evsmY8FKDl"
      }
    },
    {
      "cell_type": "markdown",
      "metadata": {
        "id": "A9c0Dr8rCujT"
      },
      "source": [
        "\n",
        "### Powderizing Method\n",
        "Materials:\n",
        " - PVC Float Valve (see picture for reference)\n",
        " - Beaker (Plastic, around 500 mL) <br/>\n",
        " \n",
        "Procedure:\n",
        "1. Place 10 g activated carbon in a 500 mL beaker.\n",
        "2. Grind the activated carbon using the Float in a similar fashion to a mortar and pestle. Using sufficient pressure with a rotational motion seems to be the most effective.\n",
        " \n",
        "\n",
        "\n"
      ]
    },
    {
      "cell_type": "markdown",
      "source": [
        "## **Current Work**#\n",
        "After consulting Monroe and Ron, the team has added another wastewater pump, controlling (basically reducing) the outward flow of the flocs-containing water in the sedimentation tube, and an effluent pump, pumping effluent water out of the entire system.\n",
        "\n",
        "\n",
        "The ProCoDa file has been updated to control the effluent pump and the two turbidimeters have been calibrated. The team is working on connecting these turbidimeters to ProCoDa by switching to USB port and installing the latest version of ProCoDa. Preliminary trials were conducted, and the data obtained are included in Table 5. In these trials, flocs formation and excess floating activated carbon were observed. \n",
        "\n",
        "The subteam later noticed backflows into the activated carbon and coagulant solutions, so the tubings and pumps were adjusted to tighten the rubber tubes and prevent backflow. It was also confirmed that the subteam's previous experimental setup was incorrect and that powdered activated carbon solution should be added before the stream goes into the influent turbidimeter, so such an adjustment was made. To investigate the underlying reason for lack of floc formation, the team carried out a simple jar test with various powdered activated carbon concentrations. The concentrations of the solutions used are included in Table 5. As shown in Figure 3, the test was inconclusive since no flocs were formed and no visually significant difference could be observed, likely due to the extremely small concentrations of activated carbon and insufficient time for complete mixing and sedimentation. Thus, the subteam later carried out a second jar test, to further examine the range of activated carbon conetrantion that enables floc formation.\n",
        "\n",
        "**Table 5:** Concentrations of PACl, humic acid, and powdered activated carbon in the preliminary jar test.\n",
        "\n",
        "|Jar|PACl Concentration (g/L)| PACl Volume (L) | Humic Acid Concentration (g/L)| Humic Acid Volume (L)| Activated Carbon Concentration in the Jar (g/L)| \n",
        "|:---:|:---:|:---:|:---:|:---:|:---:|\n",
        "|1|0.0054|0.05|0.02|0.05|0.01|\n",
        "|2|0.0054|0.05|0.02|0.05|0.02|\n",
        "|3|0.0054|0.05|0.02|0.05|0.05|\n",
        "\n",
        "\n",
        "<br/><br/>\n",
        "   <center>\n",
        "    <img src =\"https://github.com/AguaClara/activated_carbon/blob/d298f175530d9bfe43541f7443d6c4f2b33e001e/JarTest041722.png?raw=true\" height = 280>\n",
        "  </center>\n",
        "\n",
        "Figure 3: Preliminary jar test. From left to right: 0.05 g/L, 0.02 g/L, and 0.01 g/L of activated carbon\n",
        "\n",
        "<br/>\n",
        "\n",
        "In the second jar test, the subteam tested a wider range of activated carbon concentration, as detailed in Table 6. In each trial, the team first added activated carbon solution to humic acid solution, stirred the solution for 30 minutes at 65 rpm, added PACl solution to the well-mixed solution, stirred it for 2 minutes at 200 rpm, continued stirring for 20 minutes at 65 rpm, and let settle for 30 minutes.  \n",
        "\n",
        "<br/>\n",
        "\n",
        "**Table 6:** Concentrations of PACl, humic acid, and powdered activated carbon in the second preliminary jar test.\n",
        "\n",
        "|Jar|PACl Concentration (g/L)| PACl Volume (L) | Humic Acid Concentration (g/L)| Humic Acid Volume (L)| Activated Carbon Concentration in the Jar (g/L)|Activated Carbon Volume (L)| \n",
        "|:---:|:---:|:---:|:---:|:---:|:---:|:---:|\n",
        "|1|0.025|0.05|0.02|0.05|0.01|0.05|\n",
        "|2|0.025|0.05|0.02|0.05|0.10|0.05|\n",
        "|3|0.025|0.05|0.02|0.05|1.00|0.05|\n",
        "\n",
        "\n",
        "<br/>\n",
        "\n",
        "After determining the range of effective activated carbon concentration, the team ran three trials with various flow rates for 5 g/L of activated carbon solution to investigate the effectiveness of activated carbon in humic acid removal and to find the minimal amount of activated carbon needed to successfully remove humic acid.\n",
        "\n",
        "\n",
        "\n"
      ],
      "metadata": {
        "id": "0mZ1kXbS1d53"
      }
    },
    {
      "cell_type": "markdown",
      "source": [
        "#**Results and Analysis**#\n",
        "\n",
        "In our first preliminary trial, the influent water pump was ran at a flow rate of 1 mL/s, the effluent water at 0.633 mL/s, and all the other compounds (including humic acid, PACl, and powdered activated carbon) at 0.2 mL/s. The concentrations of humic acid, powdered activated carbon, and PACl used were 0.2 g/L, 5 g/L, and 5 g/L respectively. After running for 1 hour, the influent and effluent turbidities were found to be 0.00 NTU. After checking that the calibrated turbidimeters were functioning properly, it was confirmed that the turbidimeter was not sensitive enough to detect the turbidity of a 0.2 g/L of humic acid solution. With these turbidity values being 0, the team could not draw any conclusion about the effectiveness of activated carbon in the watertreatment process. As a result, a second trial was conducted.\n",
        "\n",
        "For the second trial, a higher concentration of humic acid was used to increase the turbidity readings to a range that could be detected by the turbidimeter. A 2 g/L solution of humic acid was prepared alongside our standard 5 g/L PAC and 5 g/L PACl. With a standard flow rate of 1 mL/s H2O and 0.2 mL/s of all added compounds, this yields a concentration of 0.25 g/L humic acid and 0.625 g/L activated carbon in the flocculator. With these values, an influent turbidity of 8.5 NTU and an effluent turbidity of 25 NTU were observed with small flocs forming. This data goes against our hypothesis that the turbidity of the water should decrease as humic acid is filtered out, suggesting that excess activated carbon may be affecting the turbidity. Future trials will be designed to verify or refute this claim.\n",
        "<br/><br/>\n",
        "**Table 7:** Parameter Values and Turbidities for Preliminary Experiment\n",
        "\n",
        "|Trial|PACl Concentration (g/L)|PACl Flow Rate (mL/s)| Humic Acid Concentration (g/L)| Humic acid flow rate (mL/s) | Water flow rate (mL/s)| Influent Turbidity (NTU) | Effluent Turbidity (NTU) |\n",
        "|:---:|:---:|:---:|:---:|:---:|:---:|:---:|:---:|\n",
        "|1|5.0|0.2|0.2|0.2|1|0.00|0.00|\n",
        "|2|5.0|0.2|2.0|0.2|1|8.5|25\n",
        "\n",
        "<br/>\n",
        "\n",
        "In the second preliminary jar test, the subteam aimed to find a range of activated carbon concentration that would result in the formation of flocs when mixed with 0.02 g/L of humic acid and 0.025 g/L of PACl since the first preliminary jar test was inconclusive. Flocs were observed only in the second and third jars, which had 0.10 g/L and 1.00 g/L of activated carbon respectively, as shown in Figure 4. It was found that when added to 50 mL of 0.02 g/L of humic acid and 50 mL of 0.025 g/L of PACl, 50 mL of 0.01 g/L activated carbon solution would not result in flocs formation. \n",
        "\n",
        "<br/><br/>\n",
        "   <center>\n",
        "    <img src =\"https://github.com/AguaClara/activated_carbon/blob/8ac3c2edefd6539eb064ec2bb8743fca3c84233c/050122%20Second%20Jar%20Test.png?raw=true\" height = 280>\n",
        "  </center>\n",
        "\n",
        "Figure 4: Second preliminary jar tests pre-settle (top) and after 30 minutes (bottom). From left to right: 0.01 g/L, 0.10 g/L, 1.00 g/L of activated carbon.\n",
        "\n",
        "<br/>\n",
        "\n",
        "After determining the range of effective activated carbon concentration, the team ran three trials with 5 g/L of activated carbon solution pumped at various flow rates to investigate whether flocculation occurs and the effectiveness of activated carbon in removing humic acid. The parameter values can be found in Table 8. One important thing to note is that, the team has previously determined that the PACl, humic acid, and activated carbon pumps are all pumping at flow rates different from the flow rates entered into the ProCoDA file, so the flow rates, which are the values put into the ProCoDA file, specified in Table 8 are not the actual flow rates at which the solutions were pumped.\n",
        "\n",
        "**Table 8.** Parameter values and turbidity readings for the second preliminary experiment.\n",
        "\n",
        "|Trial|PACl Concentration (g/L)|PACl Flow Rate (mL/s)| Humic Acid Concentration (g/L)| Humic acid flow rate (mL/s) | PAC Concentration (g/L)|PAC Flow Rate (mL/s)|Water flow rate (mL/s)| Influent Turbidity (NTU) | Effluent Turbidity (NTU) |Floc Formation\n",
        "|:---:|:---:|:---:|:---:|:---:|:---:|:---:|:---:|:---:|:---:|:---:|\n",
        "|1|1.0|0.2|0.2|0.2|5.0|0.01|1|3.05|1.71|yes|\n",
        "|2|1.0|0.2|0.2|0.2|5.0|0.005|1|2.44|1.88|yes|\n",
        "|3|1.0|0.2|0.2|0.2|5.0|0.002|1|3.74|0.22|unsure|\n",
        "\n",
        "\n",
        "\n",
        "In every trial, the reading for the effluent turbidity was less than that for the influent turbidity, suggesting successful flocculation and humic acid removal. The team was not yet sure about how to interpret the results from trial 3 since the some flocs from the second trial remained in the sedimentation tube, resulting in ambiguity. The high influent turbidity reading was also questionable and needs to be validated in the future. Its effluent turbidity reading, which is the lowest among the three, could either be due to the absence of excess activated carbon and effective flocculation, or some uncertain reasons such as the accumulation of flocs inside the sedimentation tube."
      ],
      "metadata": {
        "id": "RULwSj3xGZno"
      }
    },
    {
      "cell_type": "markdown",
      "metadata": {
        "id": "4m-fx7GnC6a-"
      },
      "source": [
        "#**Challenges**#\n",
        "Some challenges we faced occurred due to the fact that it had been roughly two years since anyone had performed lab work due to COVID-19. This gap led to uncertainty in regards to which equipment was available to us (e.g., a spectrophotometer to analyze effluent water) and time spent purchasing some much needed calibration equipment for our turbidimeters. Also, we had trouble identifying the concentrations of many solutions because they were either unlabeled or mislabeled, which hindered our ability to run experiments because we had to prepare all new solutions for testing. Most recently, we had difficulty running experiments because the water was shut off in the lab. These challenges helped us realize that we needed to become more diligent with our lab procedure, which was a key reason we decided to develop the SOP and recommend that there should be an MNC next year serving as a crash course on AguaClara lab procedures.\n",
        "\n",
        "\n",
        "#**Future Plans**#\n",
        "In terms of future work for the Activated Carbon subteam, the plan is to begin trials by testing different powdered activated carbon doses in removing humic acid. Since the entire group does not need to be in the lab while the system is running, the subteam can meet in pairs multiple times a week to efficiently gather data. While in the lab, members should continue to adjust the flow rates in case too much activated carbon or humic acid is present in the sedimentation tube. Also, the subteam should receive the ideal coagulant dosage recommended by the Humic Acid Subteam because their focus is on that particular chemical. Furthermore, members can add small amounts of clay to simulate particles that are present in real water. If time allows, future subteam members could also test the effectiveness of activated carbon on real raw water from the nearby water treatment plant and also test biochar, a carbon skeleton of biomass that is more available in Central America, if PAC proves to be effective.\n",
        "\n"
      ]
    },
    {
      "cell_type": "markdown",
      "metadata": {
        "id": "8WdhCMcNC00a"
      },
      "source": [
        "#**Conclusion**#\n",
        "\n",
        "This semester, the team has successfully connected our PAC pump to the system and ProCoDa, so the activated carbon solution can now be added into the influent stream along with humic acid, before going into the influent turbidimeter. Additionally, we have located and addressed the problem of wastewater not being carried up the wastewater tube by adding two additional pumps, one connecting to the end of the sedimentation tube, in order to remove the flocs, and one connected to the effluent turbidimeter, which is not necessary but is there in case the effluent water does not leave the system as it should. The latter effluent pump is controlled manually and has been confirmed to be effective at pumping the water up the wastewater tube. We have prepared the appropriate humic acid solutions, calibrated our turbidimeters, and have witnessed flocs in the sedimentation tube. A standard operating procedure was compiled, detailing the steps required to run the lab setup. Two jar tests have also been conducted to explore the effects of varying the concentrations of PAC on floc formation. No visible flocs were observed for the first jar test, while flocs formed for the second test, most visibly for the jar with 1 g/L PAC,  less so for 0.1 g/L and none for the version with 0.01 g/L PAC. After running trials with different PAC concentrations, a consistent decreasing trend for the effluent turbidity readings was observed while that for the influent water stayed largely constant. This is an indicator that flocs have formed and were removed from the water by the system. Our future work will be centered around finding the optimal, which would be the minimal effective, dosage of activated carbon and determining its effectiveness in removing humic acid.\n"
      ]
    },
    {
      "cell_type": "markdown",
      "metadata": {
        "id": "fZyCYDraC80B"
      },
      "source": [
        "## **Bibliography**\n",
        "\n",
        "Campos, C., Snoeyink, V. L., Mariñas, B., Baudin, I., &amp; Lainé, J. (2000). Atrazine removal by powdered activated carbon in floc blanket reactors. Water Research, 34(16), 4070-4080. doi:10.1016/s0043-1354(00)00169-x\n",
        "\n",
        "Coagulation and Flocculation in Water and Wastewater Treatment. (n.d.). The International Water Association Publishing. Retrieved from https://www.iwapublishing.com/news/coagulation-and-flocculation-water-and-wastewater-treatment.\n",
        "\n",
        "Grzegorzek, M., &amp; Majewska-Nowak, K. (2017). The influence of humic acids on desalination process with the use of electrodialysis. E3S Web of Conferences, 17, 00027. https://doi.org/10.1051/e3sconf/20171700027 \n",
        "\n",
        "National Research Council (US) Safe Drinking Water Committee. (1980, January 1). An Evaluation of Activated Carbon for Drinking Water Treatment.\n",
        "\n",
        "Tomaszewska, M., Mozia, S., &amp; Morawski, A. W. (2004). Removal of organic matter by coagulation enhanced with adsorption on pac. Desalination, 161(1), 79-87. doi:10.1016/s0011-9164(04)90042-2\n",
        "\n",
        "Wu, Z., Zhang, X., Pang, J., Zhang, X., Li, J., Li, J., & Zhang, P. (2020). Humic acid removal from water with pac-al30: Effect of calcium and kaolin and the Action Mechanisms. ACS Omega, 5(27), 16413–16420. https://doi.org/10.1021/acsomega.0c00532\n"
      ]
    },
    {
      "cell_type": "markdown",
      "metadata": {
        "id": "oDYGZ4TkC-H2"
      },
      "source": [
        "# **Manual**\n"
      ]
    },
    {
      "cell_type": "markdown",
      "source": [
        "## Experimental Setup Standard Operating Procedure\n",
        "\n",
        "**Starting an Experiment:**\n",
        "\n",
        "\n",
        "1.   Uncap stock solution bottles\n",
        "\n",
        "  (This is to ensure that a vacuum does not form and inhibit the flow of solution into the setup)\n",
        "2.   Turn on stir plates (such as the stir bar to keep PAC/clay suspended in solution)\n",
        "\n",
        "3. Turn on the pumps by reaching to the back of the pumps and turning on the switch\n",
        "4. Turn on the turbidimeters by flipping the lever on the above black box\n",
        "5. Switch to ‘Run’ on ProCoDA file\n",
        "\n",
        "      a. Open ProCoDA using the icon on the taskbar of the computer   \n",
        "\n",
        "      b.   Click on the box below \n",
        "     ‘Operator Selected State’\n",
        "\n",
        "      c. Press ‘Run’\n",
        "\n",
        "      d. For more information, see ProCoDA documentation in the AguaClara textbook\n",
        "\n",
        "6. Manually turn on the effluent pump and set the effluent flow rate \n",
        "7. Visually inspect each pump to ensure solutions are flowing appropriately\n",
        "\n",
        "      a. Ensure no backflow into stock solutions - this can ruin a solution if left for an extended period of time\n",
        "\n",
        "      b. Ensure water is coming out of blue tube\n",
        "\n",
        "      c. Ensure waste is flowing into red tube\n",
        "\n",
        "**Terminating an Experiment:**\n",
        "\n",
        "1. Turn off stir plates, Golander pumps, and the effluent pump\n",
        "2. Switch to ‘OFF’ on ProCoDA\n",
        "3. Tightly cap the stock solution bottle to prevent any leakage\n",
        "4. Switch off the valve on the water pipes\n",
        "5. Power down all pumps and turbidimeters \n",
        "6. Clean up the lab environment\n",
        "\n",
        "**Important Things to Keep in Mind:**\n",
        "\n",
        "*   Label stock solution bottles with either a label maker or a piece of tape and a marker\n",
        "\n",
        "*   Make sure to identify the solution’s name, concentration, and date when it was made\n",
        "\n",
        "* Remove any old labels when a new solution is made\n",
        "\n",
        "* Follow lab safety guidelines when working with chemicals (e.g., wear gloves)\n",
        "* Put materials back in their correct locations when finished using them\n",
        "\n",
        "\n",
        "**Adding Set Points or Changing Parameters on ProCoDA**\n",
        "\n",
        "1. Go to ‘Configuration’ tab\n",
        "2. Click ‘Edit rules’\n",
        "3. In the ‘Set Points’ tab\n",
        "\n",
        "      a. If do not want to mess with the order and fail the ‘control’ set points\n",
        "      * Click the last set point on the list\n",
        "\n",
        "      * Click ‘Add Set Point After’ \n",
        "\n",
        "      * Specify the unit, type, and value\n",
        "\n",
        "  b. If have to insert new set points in between existing set points\n",
        "\n",
        "    * Choose the set point to which the new set point should append to\n",
        "\n",
        "    * Click ‘Add Set Point After’\n",
        "\n",
        "    * Specify the unit, type, and value\n",
        "    \n",
        "    * Go into every set point of type ‘variable’ to ensure that all ‘Required Set Points’ are correctly selected in the ‘selected set points’ section.\n",
        "4. Click ‘OK’\n",
        "5. Click on the second icon under ‘Method files’ to save the ProCoDA file\n"
      ],
      "metadata": {
        "id": "ut-JgR1yYcrY"
      }
    },
    {
      "cell_type": "markdown",
      "metadata": {
        "id": "OH4T3NMQDE84"
      },
      "source": [
        "## Experimental Methods\n",
        "\n",
        "###Set-up of experimental apparatus\n",
        "\n",
        "1. Drain the sedimentation tank.\n",
        "2. Clean the flocculator and sedimentation tank (refer to Cleaning Procedure)\n",
        "3. Clean out the flocculator in the reverse direction (refer to Cleaning Procedure)\n",
        "4. Disconnect the coagulant tube from the system, turn on the pump, and check that coagulant is running through. If it is, reconnect the tube to the system.\n",
        "5. Run water through the system while bypassing the pressure attenuator.\n",
        "6. After the water reaches the top of the sed tank, shut off the water pump and drain the sedimentation tank again.\n",
        "7. Run water only through the system until effluent turbidity stabilizes near 0 NTU (ideally below 1.0 NTU). It is natural for influent and effluent turbidity to rise at first in this step.\n",
        "8. Clean out the influent and effluent turbidimeters (refer to Cleaning Procedure)\n",
        "9. Direct the flow to waste instead of the flocculator as shown in the diagram below.\n",
        "10. Allow influent turbidity to stabilize to appropriate NTU level.\n",
        "11. Redirect the flow back to the flocculator and main system. Turn on the coagulant pump to start the experiment.\n",
        "\n",
        "####ProCoDa Tips and Tricks\n",
        "1. Make sure first and foremost that the set points are in the proper order (to access the set points, click \"Edit Rules\"). The variables that say \"___ Control\" will have a list of required selected set points at the bottom, and the set points you select should follow the order listed. See the below image for an example.\n",
        "\n",
        "<img src= \"https://github.com/AguaClara/activated_carbon/blob/fbe7717efe871574dc8ffbc180a177c63496e0a0/Setpoints.png?raw=true\" height=300>\n",
        "\n",
        "Figure 3: Example of the proper set point order, as well as the set points to select for the PAC Control variable. COM PORT is selected but off-screen. \"PAC pump ID\" correlates with the pump address, \"ON STATE\" with the on state, \"orange_yellow_vol/rev\" with the pump used, and \"PAC flow\" with the flow rate.\n",
        "\n",
        "\n",
        "2. To get all pumps running, select the \"Run\" State (under Rules & Outputs). First make sure that all pumps are turned on and connected.\n",
        "\n",
        "####Spectrophotometer\n",
        "1. Turn on and allow the spectrophotometer to self-check: remove all light blocks and close the lid while doing so.\n",
        "2. Warm up for 20 minutes.\n",
        "3. Select the photometry option.\n",
        "4. Set photometric mode.\n",
        "5. Set wavelength and parameters.\n",
        "6. Clear unrelated values, test results, and stored data.\n",
        "7. Place Reference solution in the light path and press zero.\n",
        "8. Measure samples\n",
        "10. Use quantitation mode for standard curve.\n",
        "\n",
        "###Cleaning Procedure\n",
        "\n",
        "####Cleaning the flocculator and sedimentation tank:\n",
        "1. Close values leading to the flocculator.\n",
        "2. Take the disconnected effluent tube and connect it to the end of the flocculator.\n",
        "3. Connect one end of a long cleaning tube to the system just before the coagulant entry point.\n",
        "4. Connect the other end of the cleaning tube to the sink and turn on the faucet slowly. Make sure that the water is not rising more than a couple inches from the bottom of the sedimentation tank. Continue for 30 seconds.\n",
        "\n",
        "####Cleaning out the flocculator in the reverse direction\n",
        "1. Just before the coagulant entry point, swap the cleaning tube for another tube long enough to reach a waste bucket or tub. This can be a new tube or, as shown in the diagram, the waste tube that drains the sedimentation tank.\n",
        "2. Connect the cleaning tube to the end of the flocculator.\n",
        " \n",
        "####Cleaning out the influent and effluent turbidimeters\n",
        "Turbidimeters should be emptied and washed out before every experiment. Even if the reading displays 0.0 NTU, there may be flocs that have collected in the top or bottom of the turbidimeter vials. These deposits can interfere with your experimental results, as they can be stirred up again by changes in flow rate.\n",
        " \n",
        "1. Close the valves adjacent to the turbidimeter inlet and outlet so that water does not leak into it while cleaning.\n",
        "2. Unlock and take out the black cylinder on top of the turbidimeter.\n",
        "3. Unscrew the glass vial, empty and rinse it, then fill it with clean water. Tap water is sufficient. If there is still buildup or the glass is dirty wrap two Kim wipes around a brush until it is covered and use that to scrub the inside of the vial.\n",
        "4. Tightly screw the vial back in, wipe it with a Kim wipe free from water droplets or fingerprints, and then lock the black cylinder back into the turbidimeter.\n",
        "5. If you used the white screws on the outflow turbidimeter tubes to block water passage, remember to unscrew them.\n"
      ]
    },
    {
      "cell_type": "markdown",
      "metadata": {
        "id": "7Nhn0HGZpXsy"
      },
      "source": [
        "## Experimental Checklist\n",
        "1. Calibrate all instruments, especially the spectrophotometer.\n",
        "2. Make sure all instruments have been cleaned (and disinfected if necessary).\n",
        "3. Ensure that all electrical connections to the ProCoDa hardware are correct. Do not confuse inputs and outputs.\n",
        "4. Check that the setpoints for ProCoDa are in the correct order.\n",
        "5. Ensure that only quartz cuvettes are being used in the spectrophotometer.\n",
        "6. Ensure that the question being investigated can be answered by doing research.\n"
      ]
    },
    {
      "cell_type": "markdown",
      "metadata": {
        "id": "EBm0vQtfjgkO"
      },
      "source": [
        "##Python code"
      ]
    },
    {
      "cell_type": "code",
      "metadata": {
        "colab": {
          "base_uri": "https://localhost:8080/"
        },
        "id": "DwOWBtrmji8o",
        "outputId": "a594f69c-50de-4663-bd92-65adbdc47b40"
      },
      "source": [
        "# test between 0.5 and 3 mg/L of coagulant, in 0.5mg/L increments\n",
        "# use only coagulant and humic acid for baseline to see where we see flocs\n",
        "# figure out flow rate for coagulant\n",
        "\n",
        "!pip install aguaclara\n",
        "\n",
        "from aguaclara.core.units import unit_registry as u\n",
        "import aguaclara as ac\n",
        "import numpy as np\n",
        "\n",
        "vol_per_rev = ac.vol_per_rev_3_stop(color=\"orange-yellow\") #volume of flow per revolution of pump\n",
        "sed_diameter = 1 * u.inch  \n",
        "sed_cross_sec = ac.area_circle(sed_diameter)   \n",
        "upflow_rate = 1 * u.mm/u.s  #velocity at which water flows up the sedimentation tube\n",
        "total_flow = (sed_cross_sec * upflow_rate).to(u.mL/u.s)  #volume which flows up sedimentation tube per second\n",
        "print('The total flow rate is', total_flow)\n",
        "\n",
        "#finding PACl flow rate and rpm for target conc\n",
        "PACl_dose_conc = [0.5, 1, 1.5, 2, 2.5, 3]\n",
        "PACl_stock_conc = 500 * (u.mg/u.L)\n",
        "PACl_flow_rate = []\n",
        "PACl_rpm = []\n",
        "\n",
        "for i in PACl_dose_conc:\n",
        "  PACl_target_conc = i*(u.mg/u.L)\n",
        "  PACl_flow_rate_value = (total_flow*PACl_target_conc/PACl_stock_conc) \n",
        "  PACl_rpm_value = PACl_flow_rate_value/vol_per_rev\n",
        "\n",
        "  PACl_flow_rate.append(PACl_flow_rate_value.magnitude)\n",
        "  PACl_rpm.append(PACl_rpm_value.magnitude)\n",
        "\n",
        "\n",
        "print('The PACl flow rate is: ', PACl_flow_rate, 'mL/s')\n",
        "print('The PACl rpm is: ', PACl_rpm, 'rpm')\n",
        "\n",
        "#finding HA flow rate and rpm for target concentration\n",
        "HA_dose_conc = [5]\n",
        "HA_stock_conc = 5*(u.mg/u.L)\n",
        "HA_flow_rate = []\n",
        "HA_rpm = []\n",
        "\n",
        "for i in HA_dose_conc:\n",
        "  HA_target_conc = i*(u.mg/u.L)\n",
        "  HA_flow_value = (total_flow*HA_target_conc/HA_stock_conc)\n",
        "  HA_rpm_value = HA_flow_value/vol_per_rev\n",
        "  HA_flow_rate.append(HA_flow_value.magnitude)\n",
        "  HA_rpm.append(HA_rpm_value.magnitude)\n",
        "\n",
        "print('The humic acid flow rate is:' , HA_flow_rate, 'mL/s')\n",
        "print('The humic acid rpm is: ', HA_rpm, 'rpm')"
      ],
      "execution_count": null,
      "outputs": [
        {
          "output_type": "stream",
          "name": "stdout",
          "text": [
            "Requirement already satisfied: aguaclara in /usr/local/lib/python3.7/dist-packages (0.2.10)\n",
            "Requirement already satisfied: scipy in /usr/local/lib/python3.7/dist-packages (from aguaclara) (1.4.1)\n",
            "Requirement already satisfied: onshape-client in /usr/local/lib/python3.7/dist-packages (from aguaclara) (1.6.3)\n",
            "Requirement already satisfied: urllib3 in /usr/local/lib/python3.7/dist-packages (from aguaclara) (1.24.3)\n",
            "Requirement already satisfied: pandas in /usr/local/lib/python3.7/dist-packages (from aguaclara) (1.1.5)\n",
            "Requirement already satisfied: matplotlib in /usr/local/lib/python3.7/dist-packages (from aguaclara) (3.2.2)\n",
            "Requirement already satisfied: pint in /usr/local/lib/python3.7/dist-packages (from aguaclara) (0.18)\n",
            "Requirement already satisfied: pyparsing!=2.0.4,!=2.1.2,!=2.1.6,>=2.0.1 in /usr/local/lib/python3.7/dist-packages (from matplotlib->aguaclara) (3.0.6)\n",
            "Requirement already satisfied: python-dateutil>=2.1 in /usr/local/lib/python3.7/dist-packages (from matplotlib->aguaclara) (2.8.2)\n",
            "Requirement already satisfied: kiwisolver>=1.0.1 in /usr/local/lib/python3.7/dist-packages (from matplotlib->aguaclara) (1.3.2)\n",
            "Requirement already satisfied: cycler>=0.10 in /usr/local/lib/python3.7/dist-packages (from matplotlib->aguaclara) (0.11.0)\n",
            "Requirement already satisfied: numpy>=1.11 in /usr/local/lib/python3.7/dist-packages (from matplotlib->aguaclara) (1.19.5)\n",
            "Requirement already satisfied: six>=1.5 in /usr/local/lib/python3.7/dist-packages (from python-dateutil>=2.1->matplotlib->aguaclara) (1.15.0)\n",
            "Requirement already satisfied: nulltype in /usr/local/lib/python3.7/dist-packages (from onshape-client->aguaclara) (2.3.1)\n",
            "Requirement already satisfied: requests-oauthlib in /usr/local/lib/python3.7/dist-packages (from onshape-client->aguaclara) (1.3.0)\n",
            "Requirement already satisfied: certifi>=2017.4.17 in /usr/local/lib/python3.7/dist-packages (from onshape-client->aguaclara) (2021.10.8)\n",
            "Requirement already satisfied: ruamel.yaml in /usr/local/lib/python3.7/dist-packages (from onshape-client->aguaclara) (0.17.17)\n",
            "Requirement already satisfied: pytz>=2017.2 in /usr/local/lib/python3.7/dist-packages (from pandas->aguaclara) (2018.9)\n",
            "Requirement already satisfied: packaging in /usr/local/lib/python3.7/dist-packages (from pint->aguaclara) (21.3)\n",
            "Requirement already satisfied: importlib-metadata in /usr/local/lib/python3.7/dist-packages (from pint->aguaclara) (4.8.2)\n",
            "Requirement already satisfied: typing-extensions>=3.6.4 in /usr/local/lib/python3.7/dist-packages (from importlib-metadata->pint->aguaclara) (3.10.0.2)\n",
            "Requirement already satisfied: zipp>=0.5 in /usr/local/lib/python3.7/dist-packages (from importlib-metadata->pint->aguaclara) (3.6.0)\n",
            "Requirement already satisfied: oauthlib>=3.0.0 in /usr/local/lib/python3.7/dist-packages (from requests-oauthlib->onshape-client->aguaclara) (3.1.1)\n",
            "Requirement already satisfied: requests>=2.0.0 in /usr/local/lib/python3.7/dist-packages (from requests-oauthlib->onshape-client->aguaclara) (2.23.0)\n",
            "Requirement already satisfied: chardet<4,>=3.0.2 in /usr/local/lib/python3.7/dist-packages (from requests>=2.0.0->requests-oauthlib->onshape-client->aguaclara) (3.0.4)\n",
            "Requirement already satisfied: idna<3,>=2.5 in /usr/local/lib/python3.7/dist-packages (from requests>=2.0.0->requests-oauthlib->onshape-client->aguaclara) (2.10)\n",
            "Requirement already satisfied: ruamel.yaml.clib>=0.1.2 in /usr/local/lib/python3.7/dist-packages (from ruamel.yaml->onshape-client->aguaclara) (0.2.6)\n",
            "The total flow rate is 0.5067 milliliter / second\n",
            "The PACl flow rate is:  [0.0005067074790974978, 0.0010134149581949956, 0.0015201224372924935, 0.002026829916389991, 0.002533537395487489, 0.003040244874584987] mL/s\n",
            "The PACl rpm is:  [0.02606655224699262, 0.05213310449398524, 0.07819965674097787, 0.10426620898797048, 0.1303327612349631, 0.15639931348195574] rpm\n",
            "The humic acid flow rate is: [0.5067074790974978] mL/s\n",
            "The humic acid rpm is:  [26.06655224699262] rpm\n"
          ]
        }
      ]
    }
  ]
}