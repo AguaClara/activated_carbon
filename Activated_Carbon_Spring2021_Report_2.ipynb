{
  "nbformat": 4,
  "nbformat_minor": 0,
  "metadata": {
    "colab": {
      "name": "Activated_Carbon_Spring2021_Report_2.ipynb",
      "provenance": [],
      "collapsed_sections": [],
      "include_colab_link": true
    },
    "kernelspec": {
      "name": "python3",
      "display_name": "Python 3"
    }
  },
  "cells": [
    {
      "cell_type": "markdown",
      "metadata": {
        "id": "view-in-github",
        "colab_type": "text"
      },
      "source": [
        "<a href=\"https://colab.research.google.com/github/AguaClara/activated_carbon/blob/master/Activated_Carbon_Spring2021_Report_2.ipynb\" target=\"_parent\"><img src=\"https://colab.research.google.com/assets/colab-badge.svg\" alt=\"Open In Colab\"/></a>"
      ]
    },
    {
      "cell_type": "markdown",
      "metadata": {
        "id": "sNv8dIrSCc6X"
      },
      "source": [
        "# AguaClara Research Report & Manual Template\n",
        "#### March 1st, 2020\n",
        "\n",
        "<!-- Template Description -->\n",
        "This template will lay out all possible sections that could be used for a research report and manual. All research reports and manuals should strive to comply with this template, but not all sections will be relevant to all teams. In order to use this template, select **File** -> **Save a Copy** in Drive, then share the copy with your team members and rename it for your team in a format similar to  \"[Team Name] [Semester] [Report x]\".  When you are done with the report, select **File** -> **Save a Copy in Github** and save a copy to your teams Github repo.  Finally, share the link with the graders at aguaclaragraders@gmail.com.\n",
        "\n",
        "For guidance on writing Markdown documents, refer to the [AguaClara Tutorial wiki pages](https://aguaclara.github.io/aguaclara_tutorial/). Once you are ready to write your report, please delete this description and everything above."
      ]
    },
    {
      "cell_type": "markdown",
      "metadata": {
        "id": "TLAmaRBfCmiy"
      },
      "source": [
        "# Activated Carbon, Spring 2021\n",
        "#### Nathan Catoera, Christopher Chan, Samantha Wang\n",
        "#### 04/16/2021"
      ]
    },
    {
      "cell_type": "markdown",
      "metadata": {
        "id": "BfeU4k7OCphn"
      },
      "source": [
        "## Abstract\n",
        "\n",
        "The Activated Carbon Subteam aims to find if the use of activated carbon would be efficient to use in AguaClara water treatment plants and if so, calculate an optimal dosage of activated carbon. This is the second semester that this team is included as a part of AguaClara's Particle Removal and Dissolved Species Subteams. This semester, the team is aiming to do more research into the incorporation of activated carbon for our system and how effective it is in removing humic acid. In the future, Activated Carbon hopes to ultimately upscale the process so that it can be implemented in AguaClara plants.\n",
        "\n"
      ]
    },
    {
      "cell_type": "markdown",
      "metadata": {
        "id": "EqtwU-gRCrj9"
      },
      "source": [
        "## Introduction\n",
        "Activated Carbon's goal is to find a new and efficient way to implement the use of activated carbon before the flocculation unit process to improve the efficiency of the AguaClara water treatment plants. This research will expand the mission of providing safe water on tap because it is based off of a new design where both powdered activated carbon (PAC), as a filtrant, and polyaluminum chloride (PACl), as a coagulant, would be used to remove particles. The reason that this area is being researched is coagulant is not very efficient at binding to and removing organic matter in drinking water. Activated carbon is used in many household drinking water filters and fish tank filters to remove harmful organic molecules in the filtration step of the water treatment process and increase the clarity and potability of the water. If this process is found to be viable, it is important for the process to be scaled up so that it can be used in larger scale plants and not just in the lab setting. If the use of a mixture of activated carbon and polyaluminum chloride is found to be an efficient process, it could revolutionize the efficiency of the AguaClara plants and be used further in other water treatment plants.\n",
        "\n",
        "Activated Carbon is a new subteam; therefore, there are minimal previous works to build upon. However, in this research, humic acids will be used as a contaminant because it is in organic compounds that the coagulant has trouble removing in the first place. It also has a brown color to it and therefore, ultraviolet spectrophotometry in addition to turbidity may be used to determine the clarity of the water. Therefore, the Activated Carbon Subteam is building on the work of the Humic Acid Subteam by using the values of the optimal coagulant dosage that the Humic Acid Subteam had found previously. The values of wavelength of maximum absorbance of humic acid will also be used to construct a calibration curve and use data from a spectrophotometer. This subteam is essentially branching from what Humic Acid has been working on and using a new type of flocculation system to find an optimal coagulant dosage and powdered activated carbon dosage.\n",
        "\n",
        "\n"
      ]
    },
    {
      "cell_type": "markdown",
      "metadata": {
        "id": "FLDOXtNqCtAW"
      },
      "source": [
        "## Literature Review\n",
        "PAC is commonly used in water treatment for the removal of dissolved organic compounds. Applying PAC to a floc blanket reactor (FBR) system that removes atrazine, Campos et. al. conducted experimental trials that measured the steady-state removal of atrazine against different dosages (2mg/l, 4mg/l, and 8mg/l) of PAC. Their results indicated that the dosage of 8mg/l was able to achieve the highest average atrazine removal rate of 93% (Campos et. al. 2000). The effects of carbon dose and hydraulic loading rate on carbon concentration and carbon retention time (CRT) in the floc blanket were also evaluated. As reported, for a PAC dose of 10mg/l, a reduction in the CRT from 25 to 10 hours resulted in an increase in the hydraulic loading rate from 1 to 1.5m/h, which has important engineering implications since this result suggests that a decrease in CRT may reduce PAC absorption efficiency (Campos et. al. 2000). Thus, careful considerations must be made when deciding on process flow rates during experimental trials since varying the residence time in the upflow blanket reactor may result in a less desirable PAC absorption efficiency.\n",
        "In terms of methods of application, PAC is most generally applied in water treatment plants at the rapid mix unit in order to provide enough absorption time as the water flows through the flocculation and sedimentation units. According to a report published by the National Research Council (US) Safe Drinking Water Committee, although PAC has conventionally been used to treat organic compounds that cause offensive taste and odor, large molecules such as humic acid diffuse slowly, and it is very likely that absorption equilibrium cannot be achieved in the available residence time of the carbon (National Research Council 1980). In addition, when PAC is applied to water containing chlorine, the carbon will act as a reducing agent, which will increase the required chlorine to achieve disinfection. These results concern a system that may not involve efficient removal of PAC after the sedimentation unit, thus more research is recommended to determine whether or not a PAC and polyaluminum chloride (PACl) conjoined system is justified.\n",
        "\n",
        "Examining a more recently published article written by Tomaszewska et. al. suggests promising results from a PAC and PACl conjoined system. Jar tests simulating a water treatment system using PAC and PACl (coagulant) to remove humic acid and phenol were conducted with two different methods of process performance: (1) coagulant was added after 60-min adsorption on PAC and (2) coagulant and PAC were added simultaneously. Results suggested that the former method was more desirable: when the adsorption was conducted before coagulation, not only was a more complete removal of phenol achieved, flocs also exhibited a greater surface, which enlarged their settleability (Tomaszewska et. al. 2004). The article concluded that the effectiveness of organics removal by coagulation without the addition of PAC was much lower.\n",
        "\n",
        "## Previous Work\n",
        "\n",
        "As of Spring 2020, Activated Carbon became a new addition to the Dissolved Species Removal Research Teams of AguaClara Cornell. The Activated Carbon subteam was established on the basis that a PAC and PACl conjoined system within upflow blanket reactors (FBRs) could reduce retention time and lead to more efficient removal of dissolved organic compounds within AguaClara’s current water treatment process, producing higher quality water with potentially lower cost. Due to similarities in the nature of experimental work carried by the Activated Carbon and Humic Acid subteams, results and experimental models from previous Humic Acid subteams can be examined and used but with an additional consideration of introducing PAC into the experimental setup.\n",
        "The Fall 2017 and Spring 2018 Humic Acid sub-teams identified optimal coagulant dosages for 5mg/L and 10mg/L HA concentrations (shown in Table 1 below), which could be referenced in testing for the optimal dosage ratios of PAC to coagulant for specific HA concentrations. In addition, the Spring 2018 Humic Acid subteam found that as HA concentration increases, the optimal coagulant dosage drops down slightly. However, the team cannot conclude that increasing HA concentration will decrease the optimal coagulant dosage, as a wider range of HA concentrations should be tested. This suggests that wider ranges of HA concentrations should also be tested for its optimal PAC to PACl dosage ratios for a more comprehensive analysis.\n",
        "\n",
        "**Table 1:** Results from Spring 2018 Humic Acid Team\n",
        "\n",
        "| Humic Acid Concentration (mg/L) | Optimal Coagulant Dosage (mg/L) | \n",
        "| :---: | :---: | \n",
        "| 5 | 1.6-1.8 | \n",
        "| 10 | 1.3 | \n",
        "\n",
        "In the Fall 2019 semester, the Humic Acid team investigated whether it would be possible to form flocs using coagulant only (without the presence of clay to help the particles flocculate better). They found that flocs did in fact form, however, they were too small to form a floc blanket, and thus, the effluent water’s absorbance value was not as low as anticipated. Due to those results, this semester, our team’s goal is to investigate whether activated carbon is a more suitable method of removing humic acid from water that does not have clay.\n",
        "\n",
        "In Spring 2020, the Activated Carbon subteam designed and implemented a set up for experimentation. (Fig. 1 and Fig. 2). \n",
        "\n",
        "\n",
        "   <center>\n",
        "    <img src=\"https://github.com/brensolc/activated_carbon/blob/master/Images/lab%20bench%20set%20up.jpg?raw=true\" height=300>\n",
        "  </center>\n",
        "\n",
        "Figure 1: Experimental Apparatus\n",
        " \n",
        "   <center>\n",
        "    <img src=\"https://github.com/brensolc/activated_carbon/blob/master/Images/Esquema%201.jpeg?raw=true\" height=300>\n",
        "  </center>\n",
        "\n",
        "Figure 2: Diagram of apparatus\n",
        "\n",
        "  <center>\n",
        "    <img src=\"https://github.com/brensolc/activated_carbon/blob/master/Images/experiments.JPG?raw=true\" height=150>\n",
        "  </center>\n",
        "\n",
        "Figure 3: Data Collected from the Activated Carbon Subteam in Spring 2020 \n"
      ]
    },
    {
      "cell_type": "markdown",
      "metadata": {
        "id": "A9c0Dr8rCujT"
      },
      "source": [
        "## Methods\n",
        "The methods used to acquire data and insights are outlined below in the experimental apparatus and procedure sections. "
      ]
    },
    {
      "cell_type": "markdown",
      "metadata": {
        "id": "P1KPU32VCw94"
      },
      "source": [
        "### Experimental Apparatus\n",
        "- 4 Golander pumps\n",
        "- 2 turbidimeters\n",
        "- 1-inch wide sedimentation tube (top half = 36.12cm long, bottom half = 48.15cm long)\n",
        "- Flocculator\n",
        "- 3 1-litre stock tanks\n",
        "- Spectrophotometer UV-1600PC\n",
        "- Stir plate\n",
        "- Stir bar\n",
        "- 5000 mg/L Polyaluminum Chloride (PACl) Stock Solution\n",
        "- 1000 mg/L Humic Acid Stock Solution\n",
        "- 5000 mg/L Powdered Activated Carbon (PAC) Stock Solution\n",
        "- Quartz cuvettes\n",
        "- Microbore tubing\n",
        "\n",
        "Refer to Previous Work for schematic and image of apparatus set-up.\n"
      ]
    },
    {
      "cell_type": "markdown",
      "metadata": {
        "id": "8WdhCMcNC00a"
      },
      "source": [
        "\n",
        "### Procedure\n",
        "The steps outlined below describe the process flow procedure.\n",
        "\n",
        "1. Calibrate spectrophotometer and other necessary equipment.\n",
        "2. Water flows through the tap to the main tube.\n",
        "3. Humic acid flows through the stock solution and is added to the water.\n",
        "4. Powdered activated carbon flows through the stock and is added to the system.\n",
        "5. The flow passes through a turbidimeter.\n",
        "6. Coagulant flows through the stock solution to the main tube.\n",
        "7. The flow passes through a flocculator and then to the sedimentation tube.\n",
        "8. The water goes to a turbidimeter.\n",
        "9. Samples are taken to measure absorbance using the spectrophotometer.\n",
        "10. The effluent goes to the waste pipe.\n",
        " \n",
        "The baseline experiment, which will be used to establish the least amount of coagulant for 8mg/L of humic acid necessary for floc formation. The procedure is as detailed above, except with the absence of the addition of activated carbon in Step 4.\n",
        "\n",
        "**Table 3:** Calculated Parameter Values for Baseline Experiment\n",
        "\n",
        "|Trial|PACl Concentration (mg/L)|PACl Flow Rate (mL/s)| PACl rpm| Humic Acid Concentration (mL/s)| Humic acid flow rate (mL/s) |Humic acid rpm| Water flow rate (mL/s)|\n",
        "|:---:|:---:|:---:|:---:|:---:|:---:|:---:|:---:|\n",
        "|1|0|0.000|0.000|8|0.0041|0.0272|0.5067|\n",
        "|2|5|0.5067|3.4042|8|0.0041|0.0272|0.5067|\n",
        "|3|10|1.0134|6.808|8|0.0041|0.0272|0.5067|\n",
        "|4|15|1.5201|10.2127|8|0.0041|0.0272|0.5067|\n",
        "|5|20|2.0268|13.6169|8|0.0041|0.0272|0.5067|\n",
        "\n",
        "\n"
      ]
    },
    {
      "cell_type": "markdown",
      "metadata": {
        "id": "TPiP9gijC3GV"
      },
      "source": [
        "## Results\n",
        "Unfortunately, due to COVID-19 and the difficulties surrounding lab access during the Spring 2021 semester, the experiment could not be carried out using the equipment in the lab.\n",
        "Therefore, the acquisition of data and results was not possible.  \n",
        "\n",
        "However, based on the research mentioned in Previous Work, we do expect to see an increase in efficiency with the addition of powdered activated carbon.\n"
      ]
    },
    {
      "cell_type": "markdown",
      "metadata": {
        "id": "4m-fx7GnC6a-"
      },
      "source": [
        "## Conclusions\n",
        "The purpose of this experiment was to investigate whether the addition of powdered activated carbon (PAC) as a filtrant to polyaluminum chloride (PACl) as a coagulant would aid in the removal of organic materials such as humic acid from water, and if so, to find an optimal dosage of activated carbon. \n",
        "\n",
        "Based on previous works, it was found that PAC does work as an effective filtrant to remove organic materials from drinking water, however, due to lab limitations for the Spring 2021 semester, our subteam was not able to come upon our own results. \n"
      ]
    },
    {
      "cell_type": "markdown",
      "metadata": {
        "id": "QbOeP4KiC7p2"
      },
      "source": [
        "## Future Work\n",
        "   Due to the College of Engineering and COVID-19 restrictions, the lab space has not been available for our subteam to conduct in-person research. Therefore, the majority of the work we have done this semester (Spring 2021) has been familiarizing ourselves more with the literature, and preparing our course of action once we are allowed to conduct in-person research.\n",
        "\n",
        "   Once we are allowed back inside of the lab, our first step is to rebuild the system. Since we got kicked off of campus due to COVID-19, the system that was built by the previous subteam was removed. Once the system is rebuilt, the subteam will run experiments while varying different parameters to collect data in hopes of finding out how to incorporate activated carbon into AguaClara water treatment plants.\n",
        "\n",
        "   Another problem that can be tackled by future members of this subteam is figuring out how to purify and recycle contaminated activated carbon. If this problem is solved, it could lower the total cost of the system by a fair amount, as the activated carbon would be reused instead of disposed.\n"
      ]
    },
    {
      "cell_type": "markdown",
      "metadata": {
        "id": "fZyCYDraC80B"
      },
      "source": [
        "## Bibliography\n",
        "\n",
        "Campos, C., Snoeyink, V. L., Mariñas, B., Baudin, I., &amp; Lainé, J. (2000). Atrazine removal by powdered activated carbon in floc blanket reactors. Water Research, 34(16), 4070-4080. doi:10.1016/s0043-1354(00)00169-x\n",
        "\n",
        "National Research Council (US) Safe Drinking Water Committee. (1980, January 1). An Evaluation of Activated Carbon for Drinking Water Treatment.\n",
        "\n",
        "Tomaszewska, M., Mozia, S., &amp; Morawski, A. W. (2004). Removal of organic matter by coagulation enhanced with adsorption on pac. Desalination, 161(1), 79-87. doi:10.1016/s0011-9164(04)90042-2\n",
        "\n"
      ]
    },
    {
      "cell_type": "markdown",
      "metadata": {
        "id": "oDYGZ4TkC-H2"
      },
      "source": [
        "# Manual\n"
      ]
    },
    {
      "cell_type": "markdown",
      "metadata": {
        "id": "OH4T3NMQDE84"
      },
      "source": [
        "## Experimental Methods\n",
        "\n",
        "###Set-up of experimental apparatus\n",
        "\n",
        "1. Drain the sedimentation tank.\n",
        "2. Clean the flocculator and sedimentation tank (refer to Cleaning Procedure)\n",
        "3. Clean out the flocculator in the reverse direction (refer to Cleaning Procedure)\n",
        "4. Disconnect the coagulant tube from the system, turn on the pump, and check that coagulant is running through. If it is, reconnect the tube to the system.\n",
        "5. Run water through the system while bypassing the pressure attenuator.\n",
        "6. After the water reaches the top of the sed tank, shut off the water pump and drain the sedimentation tank again.\n",
        "7. Run water only through the system until effluent turbidity stabilizes near 0 NTU (ideally below 1.0 NTU). It is natural for influent and effluent turbidity to rise at first in this step.\n",
        "8. Clean out the influent and effluent turbidimeters (refer to Cleaning Procedure)\n",
        "9. Direct the flow to waste instead of the flocculator as shown in the diagram below.\n",
        "10. Allow influent turbidity to stabilize to appropriate NTU level.\n",
        "11. Redirect the flow back to the flocculator and main system. Turn on the coagulant pump to start the experiment.\n",
        "\n",
        "####Spectrophotometer\n",
        "1. Turn on and allow the spectrophotometer to self-check: remove all light blocks and close the lid while doing so.\n",
        "2. Warm up for 20 minutes.\n",
        "3. Select the photometry option.\n",
        "4. Set photometric mode.\n",
        "5. Set wavelength and parameters.\n",
        "6. Clear unrelated values, test results, and stored data.\n",
        "7. Place Reference solution in the light path and press zero.\n",
        "8. Measure samples\n",
        "10. Use quantitation mode for standard curve.\n",
        "\n",
        "###Cleaning Procedure\n",
        "\n",
        "####Cleaning the flocculator and sedimentation tank:\n",
        "1. Close values leading to the flocculator.\n",
        "2. Take the disconnected effluent tube and connect it to the end of the flocculator.\n",
        "3. Connect one end of a long cleaning tube to the system just before the coagulant entry point.\n",
        "4. Connect the other end of the cleaning tube to the sink and turn on the faucet slowly. Make sure that the water is not rising more than a couple inches from the bottom of the sedimentation tank. Continue for 30 seconds.\n",
        "\n",
        "####Cleaning out the flocculator in the reverse direction\n",
        "1. Just before the coagulant entry point, swap the cleaning tube for another tube long enough to reach a waste bucket or tub. This can be a new tube or, as shown in the diagram, the waste tube that drains the sedimentation tank.\n",
        "2. Connect the cleaning tube to the end of the flocculator.\n",
        " \n",
        "####Cleaning out the influent and effluent turbidimeters\n",
        "Turbidimeters should be emptied and washed out before every experiment. Even if the reading displays 0.0 NTU, there may be flocs that have collected in the top or bottom of the turbidimeter vials. These deposits can interfere with your experimental results, as they can be stirred up again by changes in flow rate.\n",
        " \n",
        "1. Close the valves adjacent to the turbidimeter inlet and outlet so that water does not leak into it while cleaning.\n",
        "2. Unlock and take out the black cylinder on top of the turbidimeter.\n",
        "3. Unscrew the glass vial, empty and rinse it, then fill it with clean water. Tap water is sufficient. If there is still buildup or the glass is dirty wrap two Kim wipes around a brush until it is covered and use that to scrub the inside of the vial.\n",
        "4. Tightly screw the vial back in, wipe it with a Kim wipe free from water droplets or fingerprints, and then lock the black cylinder back into the turbidimeter.\n",
        "5. If you used the white screws on the outflow turbidimeter tubes to block water passage, remember to unscrew them.\n"
      ]
    },
    {
      "cell_type": "markdown",
      "metadata": {
        "id": "7Nhn0HGZpXsy"
      },
      "source": [
        "## Experimental Checklist\n",
        "1. Calibrate all instruments, especially the spectrophotometer.\n",
        "2. Make sure all instruments have been cleaned (and disinfected if necessary).\n",
        "3. Ensure that all electrical connections to the ProCoDa hardware are correct. Do not confuse inputs and outputs.\n",
        "4. Check that the setpoints for ProCoDa are in the correct order.\n",
        "5. Ensure that only quartz cuvettes are being used in the spectrophotometer.\n",
        "6. Ensure that the question being investigated can be answered by doing research.\n"
      ]
    },
    {
      "cell_type": "markdown",
      "metadata": {
        "id": "HCNXi5uiDFsw"
      },
      "source": [
        "## Python Code\n"
      ]
    },
    {
      "cell_type": "markdown",
      "metadata": {
        "id": "NtF6hMF9EkG2"
      },
      "source": [
        "### Code for Figure 3"
      ]
    },
    {
      "cell_type": "code",
      "metadata": {
        "id": "CP_A9n8SDHf1",
        "colab": {
          "base_uri": "https://localhost:8080/"
        },
        "outputId": "849743e7-e8a8-4d72-e048-1544e311314b"
      },
      "source": [
        "# test between 0 and 20 mg/L of coagulant, in 5mg/L increments\n",
        "# use only coagulant and humic acid for baseline to see where we see flocs\n",
        "# figure out flow rate for coagulant\n",
        "\n",
        "!pip install aguaclara\n",
        "\n",
        "from aguaclara.core.units import unit_registry as u\n",
        "import aguaclara as ac\n",
        "import numpy as np\n",
        "\n",
        "Pump_coag_per_rev = ac.vol_per_rev_3_stop('yellow-blue')\n",
        "D = 1 * u.inch\n",
        "A = ac.area_circle(D)\n",
        "v_up = 1 * u.mm/u.s\n",
        "Q_water = (A * v_up).to(u.mL/u.s)\n",
        "print('The water flow rate is',Q_water)\n",
        "\n",
        "C_PACl_dose = [0,5,10,15,20]\n",
        "PACl_stock = 5 * (u.g/u.L)\n",
        "Q_PACl_stock = []\n",
        "PACl_rpm = []\n",
        "\n",
        "for i in C_PACl_dose:\n",
        "  Q_PACl_value = (Q_water*i/PACl_stock) \n",
        "  PACl_rpm_value = Q_PACl_value/Pump_coag_per_rev\n",
        "\n",
        "  Q_PACl_stock.append(Q_PACl_value.magnitude)\n",
        "  PACl_rpm.append(PACl_rpm_value.magnitude)\n",
        "\n",
        "\n",
        "print('The PACl flow rate is: ', Q_PACl_stock, 'mL/s')\n",
        "print('The PACl rpm is: ', PACl_rpm, 'rpm')\n",
        "\n",
        "\n",
        "# humic acid: 8 mg/L\n",
        "\n",
        "C_HA_dose = [8]\n",
        "HA_stock = 1000*(u.mg/u.L)\n",
        "Q_HA_stock = []\n",
        "HA_rpm = []\n",
        "\n",
        "for i in C_HA_dose:\n",
        "  Q_HA_value = (Q_water*i/HA_stock)\n",
        "  HA_rpm_value = Q_HA_value/Pump_coag_per_rev\n",
        "  Q_HA_stock.append(Q_HA_value.magnitude)\n",
        "  HA_rpm.append(HA_rpm_value.magnitude)\n",
        "\n",
        "print('The humic acid flow rate is:' , Q_HA_stock, 'mL/s')\n",
        "print('The humic acid rpm is: ', HA_rpm, 'rpm')\n",
        "\n"
      ],
      "execution_count": null,
      "outputs": [
        {
          "output_type": "stream",
          "text": [
            "Collecting aguaclara\n",
            "\u001b[?25l  Downloading https://files.pythonhosted.org/packages/ee/c5/d5af18ac620a47d5cf16b7bc2fc0da9d74cbbfb8cafe2ebbc801a1ea0900/aguaclara-0.2.10.tar.gz (94kB)\n",
            "\u001b[K     |████████████████████████████████| 102kB 7.6MB/s \n",
            "\u001b[?25hRequirement already satisfied: matplotlib in /usr/local/lib/python3.7/dist-packages (from aguaclara) (3.2.2)\n",
            "Requirement already satisfied: urllib3 in /usr/local/lib/python3.7/dist-packages (from aguaclara) (1.24.3)\n",
            "Collecting pint\n",
            "\u001b[?25l  Downloading https://files.pythonhosted.org/packages/33/de/53a77b82553579affab7438d299f850acbc1c4dd741c5ce52594513cb0ef/Pint-0.17-py2.py3-none-any.whl (204kB)\n",
            "\u001b[K     |████████████████████████████████| 215kB 30.4MB/s \n",
            "\u001b[?25hRequirement already satisfied: pandas in /usr/local/lib/python3.7/dist-packages (from aguaclara) (1.1.5)\n",
            "Requirement already satisfied: scipy in /usr/local/lib/python3.7/dist-packages (from aguaclara) (1.4.1)\n",
            "Collecting onshape_client\n",
            "\u001b[?25l  Downloading https://files.pythonhosted.org/packages/e7/e4/687bad02d5f0b04d507e029b7728269706c51c5caf1280223e423a2ac05a/onshape_client-1.6.3-py3-none-any.whl (2.1MB)\n",
            "\u001b[K     |████████████████████████████████| 2.1MB 38.6MB/s \n",
            "\u001b[?25hRequirement already satisfied: cycler>=0.10 in /usr/local/lib/python3.7/dist-packages (from matplotlib->aguaclara) (0.10.0)\n",
            "Requirement already satisfied: numpy>=1.11 in /usr/local/lib/python3.7/dist-packages (from matplotlib->aguaclara) (1.19.5)\n",
            "Requirement already satisfied: python-dateutil>=2.1 in /usr/local/lib/python3.7/dist-packages (from matplotlib->aguaclara) (2.8.1)\n",
            "Requirement already satisfied: pyparsing!=2.0.4,!=2.1.2,!=2.1.6,>=2.0.1 in /usr/local/lib/python3.7/dist-packages (from matplotlib->aguaclara) (2.4.7)\n",
            "Requirement already satisfied: kiwisolver>=1.0.1 in /usr/local/lib/python3.7/dist-packages (from matplotlib->aguaclara) (1.3.1)\n",
            "Requirement already satisfied: packaging in /usr/local/lib/python3.7/dist-packages (from pint->aguaclara) (20.9)\n",
            "Requirement already satisfied: importlib-metadata; python_version < \"3.8\" in /usr/local/lib/python3.7/dist-packages (from pint->aguaclara) (3.10.1)\n",
            "Requirement already satisfied: pytz>=2017.2 in /usr/local/lib/python3.7/dist-packages (from pandas->aguaclara) (2018.9)\n",
            "Collecting ruamel.yaml\n",
            "\u001b[?25l  Downloading https://files.pythonhosted.org/packages/29/4e/c3105bbbbc662f6a671a505f00ec771e93b5254f09fbb06002af9087071a/ruamel.yaml-0.17.4-py3-none-any.whl (101kB)\n",
            "\u001b[K     |████████████████████████████████| 102kB 10.4MB/s \n",
            "\u001b[?25hCollecting nulltype\n",
            "  Downloading https://files.pythonhosted.org/packages/00/0f/47dde1a3cceac9858da0bfb92d2279bf5f993ed075b72983e92efc297db3/nulltype-2.3.1-py2.py3-none-any.whl\n",
            "Requirement already satisfied: six>=1.10 in /usr/local/lib/python3.7/dist-packages (from onshape_client->aguaclara) (1.15.0)\n",
            "Requirement already satisfied: certifi>=2017.4.17 in /usr/local/lib/python3.7/dist-packages (from onshape_client->aguaclara) (2020.12.5)\n",
            "Requirement already satisfied: requests-oauthlib in /usr/local/lib/python3.7/dist-packages (from onshape_client->aguaclara) (1.3.0)\n",
            "Requirement already satisfied: typing-extensions>=3.6.4; python_version < \"3.8\" in /usr/local/lib/python3.7/dist-packages (from importlib-metadata; python_version < \"3.8\"->pint->aguaclara) (3.7.4.3)\n",
            "Requirement already satisfied: zipp>=0.5 in /usr/local/lib/python3.7/dist-packages (from importlib-metadata; python_version < \"3.8\"->pint->aguaclara) (3.4.1)\n",
            "Collecting ruamel.yaml.clib>=0.1.2; platform_python_implementation == \"CPython\" and python_version < \"3.10\"\n",
            "\u001b[?25l  Downloading https://files.pythonhosted.org/packages/5e/6e/f652c56bbb2c3d3fca252ffc7c0358597f57a1bbdf484dac683054950c63/ruamel.yaml.clib-0.2.2-cp37-cp37m-manylinux1_x86_64.whl (547kB)\n",
            "\u001b[K     |████████████████████████████████| 552kB 46.3MB/s \n",
            "\u001b[?25hRequirement already satisfied: oauthlib>=3.0.0 in /usr/local/lib/python3.7/dist-packages (from requests-oauthlib->onshape_client->aguaclara) (3.1.0)\n",
            "Requirement already satisfied: requests>=2.0.0 in /usr/local/lib/python3.7/dist-packages (from requests-oauthlib->onshape_client->aguaclara) (2.23.0)\n",
            "Requirement already satisfied: idna<3,>=2.5 in /usr/local/lib/python3.7/dist-packages (from requests>=2.0.0->requests-oauthlib->onshape_client->aguaclara) (2.10)\n",
            "Requirement already satisfied: chardet<4,>=3.0.2 in /usr/local/lib/python3.7/dist-packages (from requests>=2.0.0->requests-oauthlib->onshape_client->aguaclara) (3.0.4)\n",
            "Building wheels for collected packages: aguaclara\n",
            "  Building wheel for aguaclara (setup.py) ... \u001b[?25l\u001b[?25hdone\n",
            "  Created wheel for aguaclara: filename=aguaclara-0.2.10-cp37-none-any.whl size=107246 sha256=60f0efb277d93849c38e75bfc8b966a5c60d6834aebb49f93e66ab92f298998d\n",
            "  Stored in directory: /root/.cache/pip/wheels/ca/49/8d/cd190eac424c74d5d164af69b86bc6ab405affbaa22e22e57b\n",
            "Successfully built aguaclara\n",
            "Installing collected packages: pint, ruamel.yaml.clib, ruamel.yaml, nulltype, onshape-client, aguaclara\n",
            "Successfully installed aguaclara-0.2.10 nulltype-2.3.1 onshape-client-1.6.3 pint-0.17 ruamel.yaml-0.17.4 ruamel.yaml.clib-0.2.2\n",
            "The water flow rate is 0.5067 milliliter / second\n",
            "The PACl flow rate is:  [0.0, 0.5067074790974978, 1.0134149581949956, 1.5201224372924933, 2.026829916389991] mL/s\n",
            "The PACl rpm is:  [0.0, 3.4042405607729624, 6.808481121545925, 10.212721682318888, 13.61696224309185] rpm\n",
            "The humic acid flow rate is: [0.004053659832779982] mL/s\n",
            "The humic acid rpm is:  [0.0272339244861837] rpm\n"
          ],
          "name": "stdout"
        }
      ]
    }
  ]
}