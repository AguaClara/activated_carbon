{
  "nbformat": 4,
  "nbformat_minor": 0,
  "metadata": {
    "colab": {
      "name": "Report 1",
      "provenance": [],
      "include_colab_link": true
    },
    "kernelspec": {
      "name": "python3",
      "display_name": "Python 3"
    }
  },
  "cells": [
    {
      "cell_type": "markdown",
      "metadata": {
        "id": "view-in-github",
        "colab_type": "text"
      },
      "source": [
        "<a href=\"https://colab.research.google.com/github/AguaClara/activated_carbon/blob/master/Spring_2020_Report.ipynb\" target=\"_parent\"><img src=\"https://colab.research.google.com/assets/colab-badge.svg\" alt=\"Open In Colab\"/></a>"
      ]
    },
    {
      "cell_type": "markdown",
      "metadata": {
        "id": "OSTIzJRduZwD",
        "colab_type": "text"
      },
      "source": [
        "# Activated Carbon, Spring 2020\n",
        "#### Brenda Solorzano, Dorothy Leung, Jena Rozanski, Maya Shanti\n",
        "#### 03/06/2020"
      ]
    },
    {
      "cell_type": "markdown",
      "metadata": {
        "id": "XvKirPba0Oj1",
        "colab_type": "text"
      },
      "source": [
        "## Abstract\n",
        "\n",
        "The Activated Carbon Subteam aims to find if the use of activated carbon would be efficient to use in AguaClara water treatment plants and if so, calculate an optimal dosage of activated carbon. This is the first semester that this team is included as a part of AguaClara's Particle Removal and Dissolved Species Subteams. In the future, Activated Carbon hopes to ultimately upscale the process so that it can be implemented in AguaClara plants. "
      ]
    },
    {
      "cell_type": "markdown",
      "metadata": {
        "id": "BxtXQr87t91T",
        "colab_type": "text"
      },
      "source": [
        ""
      ]
    },
    {
      "cell_type": "markdown",
      "metadata": {
        "id": "lSvwMeS00PmA",
        "colab_type": "text"
      },
      "source": [
        "## Introduction\n",
        "\n",
        "\n",
        "Activated Carbon's goal is to find a new and efficient way to implement the use of activated carbon before the flocculation unit process to improve the efficiency of the AguaClara water treatment plants. This research will expand the mission of providing safe water on tap because it is bassed off of a new design where both powdered activated carbon (PAC), as a filtrant, and polyaluminum chloride (PACl), as a coagulant, would be used to remove particles. The reason that this area is being researched is coagulant is not very efficient at binding to and removing organic matter in drinking water. Activated carbon is used in many household drinking water filters and fish tank filters to remove harmful organic molecules in the filtration step of the water treatment process and increase the clarity and potability of the water. If this process is found to be viable, it is important for the process to be scaled up so that it can be used in larger scale plants and not just in the lab setting. If the use of a mixture of activated carbon and polyaluminum chloride is found to be an efficient process, it could revolutionize the efficiency of the AguaClara plants and be used further in other water treatment plants.\n",
        "\n",
        "Activated Carbon is a new subteam; therefore, there are no previous works to build upon. However, in this research, humic acids iwll be used as a contaminant because it is in organic compound that coagulant has trouble removing in the first place. It also has a brown color to it and therefore, ultraviolet spectrophotometry in addition to turbidity may be used to determine the clarity of the water. Therefore, the Activated Carbon Subteam is building on the work of the Humic Acid Subteam by using the values of the optimal coagulant dosage that the Humic Acid Subteam had found previously. THe values of wavelenght of maximum absorbance of humic acid will also be used to construct a calibration curve and use data from a spectrophotometer. This subteam is essentially branching from what Humic Acid has been working on and using a new type of flocculation system to find an optimal coagulant dosage and powdered activated carbon dosage. "
      ]
    },
    {
      "cell_type": "markdown",
      "metadata": {
        "id": "q2qlmeyX0Vy9",
        "colab_type": "text"
      },
      "source": [
        "## Literature Review and Previous Work\n",
        "\n",
        "### *Literature Review*\n",
        "PAC is commonly used in water treatment for the removal of dissolved organic compounds. Applying PAC to a floc blanket reactor (FBR) system that removes atrazine, Campos et. al. conducted experimental trials that measured the steady-state removal of atrazine against different dosages (2mg/l, 4mg/l, and 8mg/l) of PAC. Their results indicated that the dosage of 8mg/l was able to achieve the highest average atrazine removal rate of 93% [(Campos et. al. 2000)](https://www.researchgate.net/publication/248328902_Atrazine_removal_by_powdered_activated_carbon_in_floc_blanket_reactors). The effects of carbon dose and hydraulic loading rate on carbon concentration and carbon retention time (CRT) in the floc blanket were also evaluated. As reported, for a PAC dose of 10mg/l, a reduction in the CRT from 25 to 10 hours resulted in an increase in the hydraulic loading rate from 1 to 1.5m/h, which has important engineering implications since this result suggests that a decrease in CRT may reduce PAC absorption efficiency [(Campos et. al. 2000)](https://www.researchgate.net/publication/248328902_Atrazine_removal_by_powdered_activated_carbon_in_floc_blanket_reactors). Thus, careful considerations must be made when deciding on process flow rates during experimental trials since varying the residence time in the upflow blanket reactor may result in a less desirable PAC absorption efficiency. \n",
        "\n",
        "\n",
        "In terms of methods of application, PAC is most generally applied in water treatment plants at the rapid mix unit in order to provide enough absorption time as the water flows through the flocculation and sedimentation units. According to a report published by the National Research Council (US) Safe Drinking Water Committee, although PAC has conventionally been used to treat organic compounds that cause offensive taste and odor, large molecules such as humic acid diffuse slowly, and it is very likely that absorption equilibrium cannot be achieved in the available residence time of the carbon [(1980)](https://www.ncbi.nlm.nih.gov/books/NBK234593/#ddd00222). In addition, when PAC is applied to water containing chlorine, the carbon will act as a reducing agent, which will increase the required chlorine to achieve disinfection. These results concern a system that may not involve efficient removal of PAC after the sedimentation unit, thus more research is recommended to determine whether or not a PAC and polyaluminum chloride (PACl) conjoined system is justified. \n",
        "\n",
        "\n",
        "Examining a more recently published article written by Tomaszewska et. al. suggests promising results from a PAC and PACl conjoined system. Jar tests simulating a water treatment system using PAC and PACl (coagulant) to remove humic acid and phenol were conducted with two different methods of process performance: (1) coagulant was added after 60-min adsorption on PAC and (2) coagulant and PAC were added simultaneously. Results suggested that the former method was more desirable: when the adsorption was conducted before coagulation, not only was a more complete removal of phenol achieved, flocs also exhibited a greater surface, which enlarged their settleability [(Tomaszewska et. al. 2004)](https://www.sciencedirect.com/science/article/pii/S0011916404900422). The article concluded that the effectiveness of organics removal by coagulation without the addition of PAC was much lower. \n",
        "\n",
        "### *Previous Work*\n",
        "As of Spring 2020, Activated Carbon became a new addition to the Dissolved Species Removal Research Teams of AguaClara Cornell. The Activated Carbon subteam was established on the basis that a PAC and PACl conjoined system within upflow blanket reactors (FBRs) could reduce retention time and lead to more efficient removal of dissolved organic compounds within AguaClara’s current water treatment process, producing higher quality water with potentially lower cost. Due to similarities in the nature of experimental work carried by the Activated Carbon and Humic Acid subteams, results and experimental models from previous Humic Acid subteams can be examined and used but with an additional consideration of introducing PAC into the experimental setup. \n",
        "\n",
        "The Fall 2017 and Spring 2018 Humic Acid sub-teams identified optimal coagulant dosages for 5mg/L and 10mg/L HA concentrations (shown in Table 1 below), which could be referenced in testing for the optimal dosage ratios of PAC to coagulant for specific HA concentrations. In addition, the Spring 2018 Humic Acid subteam found that as HA concentration increases, the optimal coagulant dosage drops down slightly. However, the team cannot conclude that the increasing of HA concentration will decrease the optimal coagulant dosage, as a wider range of HA concentrations should be tested. This suggests that wider ranges of HA concentrations should also be tested for its optimal PAC to PACl dosage ratios for a more comprehensive analysis. \n",
        "\n",
        "**Table 1:** Results from Spring 2018 Humic Acid Team\n",
        "\n",
        "| Humic Acid Concentration (mg/L) | Optimal Coagulant Dosage (mg/L) | \n",
        "| :---: | :---: | \n",
        "| 5 | 1.6-1.8 | \n",
        "| 10 | 1.3 | \n",
        "\n",
        "In the Fall 2019 semester, the Humic Acid team investigated whether it would be possible to form flocs using coagulant only (without the presence of clay to help the particles flocculate better). They found that flocs did in fact form, however, they were too small to form a floc blanket, and thus, the effluent water’s absorbance value was not as low as anticipated. Due to those results, this semester, our team’s goal is to investigate whether activated carbon is a more suitable method of removing humic acid from water that does not have clay. "
      ]
    },
    {
      "cell_type": "markdown",
      "metadata": {
        "id": "PyNicqrcY7gA",
        "colab_type": "text"
      },
      "source": [
        "# Methods\n",
        "\n",
        "### Experimental Apparatus\n",
        "\n",
        "### *Materials*\n",
        "-\tFour Golander pumps\n",
        "-\tTwo Turbidimeter\n",
        "-\tSpectrophotometer UV-1600PC\n",
        "-\t5000 mg/L Polyaluminum Chloride (PACl) Stock Solution\n",
        "-\t1000 mg/L Humic Acid Stock Solution \n",
        "-\t5000 mg/L Powdered Activated Carbon (PAC) Stock Solution\n",
        "-\tOne stir plate with stir bar for PAC solution \n",
        "-\tCuvettes of quartz for the spectrophotometer\n",
        "-\tMicrobore tubing \n",
        "\n",
        "### Procedure\n",
        " \n",
        "### *Process flow*\n",
        "1.\tWater flows through the tap to the main tube. \n",
        "2.\tHumic acid flows through the stock solution and is added to the water. \n",
        "3.\tPowdered activated carbon flows through the stock and is added to the system.\n",
        "4.\tThe flow passes through a turbidimeter.\n",
        "5.\tCoagulant flows through the stock solution to the main tube.\n",
        "6.\tThe flow passes through a flocculator and then to the sedimentation tube.\n",
        "7.\tThe water goes to a turbidimeter. \n",
        "8.\tSamples are taken to measure absorbance.\n",
        "9.\tThe effluent goes to the waste pipe.\n",
        "\n",
        "### *Schematic*\n",
        "\n",
        "![Figure 1.  Lab bench setup ](https://github.com/brensolc/activated_carbon/blob/master/Images/lab%20bench%20set%20up.jpg?raw=true)\n",
        "\n",
        "![Figure 2. Schematic showing the water flow through the system](https://github.com/brensolc/activated_carbon/blob/master/Images/Esquema%201.jpeg?raw=true)\n",
        "\n",
        "### *Powdered Activated Carbon Experiments*\n",
        "\n",
        "The experiments start by adding only PAC and PACl to the system, to observe PAC behavior on the sed tube. Humic acid was added in the next experiments, keeping the dose constant along with the dose of PAC. The PACl dose was varying, to know the optimal dose to add to the system. \n",
        "\n",
        "![texto alternativo](https://github.com/brensolc/activated_carbon/blob/master/Images/experiments.JPG?raw=true)\n",
        "\n",
        "\n",
        "\n",
        "\n"
      ]
    },
    {
      "cell_type": "markdown",
      "metadata": {
        "id": "CAhi_0thiDRV",
        "colab_type": "text"
      },
      "source": [
        "## Bibliography\n",
        "Campos, C., Snoeyink, V. L., Mariñas, B., Baudin, I., & Lainé, J. M. (2000, August 21). Atrazine removal by powdered activated carbon in floc blanket reactors. \n",
        "\n",
        "National Research Council (US) Safe Drinking Water Committee. (1980, January 1). An Evaluation of Activated Carbon for Drinking Water Treatment. \n",
        "\n",
        "\n"
      ]
    }
  ]
}