{
  "nbformat": 4,
  "nbformat_minor": 0,
  "metadata": {
    "colab": {
      "name": "Activated_Carbon_Spring2022_Report1.ipynb",
      "provenance": [],
      "collapsed_sections": [],
      "include_colab_link": true
    },
    "kernelspec": {
      "name": "python3",
      "display_name": "Python 3"
    }
  },
  "cells": [
    {
      "cell_type": "markdown",
      "metadata": {
        "id": "view-in-github",
        "colab_type": "text"
      },
      "source": [
        "<a href=\"https://colab.research.google.com/github/AguaClara/activated_carbon/blob/master/Activated_Carbon_Spring2022_Report1.ipynb\" target=\"_parent\"><img src=\"https://colab.research.google.com/assets/colab-badge.svg\" alt=\"Open In Colab\"/></a>"
      ]
    },
    {
      "cell_type": "markdown",
      "metadata": {
        "id": "TLAmaRBfCmiy"
      },
      "source": [
        "# **Activated Carbon, Spring 2022**\n",
        "#### Ian Lillie, Annie Hsu, Nhi Nguyen, Zachary Kwon\n",
        "#### 02/25/2022"
      ]
    },
    {
      "cell_type": "markdown",
      "metadata": {
        "id": "BfeU4k7OCphn"
      },
      "source": [
        "## **Abstract**\n",
        "\n",
        "The Activated Carbon Subteam aims to find if the use of activated carbon would be efficient to use in AguaClara water treatment plants and if so, calculate an optimal dosage of activated carbon. This is the fourth semester that this team is included as a part of AguaClara's Particle Removal and Dissolved Species Subteams. This semester, the team is aiming to do more research into the incorporation of activated carbon for our system and how effective it is in forming more densed flocs, which can contribute to the removal of humic acid and natural organic matter in general. In the future, Activated Carbon hopes to ultimately upscale the process so that it can be implemented in AguaClara plants.\n",
        "\n"
      ]
    },
    {
      "cell_type": "markdown",
      "metadata": {
        "id": "EqtwU-gRCrj9"
      },
      "source": [
        "## **Introduction**\n",
        "Activated Carbon's goal is to find a new and efficient way to implement the use of activated carbon before the flocculation unit process to improve the efficiency of the AguaClara water treatment plants. This research will expand the mission of providing safe water on tap because it is based off of a new design where both powdered activated carbon (PAC), as a filtrant, and polyaluminum chloride (PACl), as a coagulant, would be used to remove particles. The reason that this area is being researched is that coagulant is not very efficient at binding to and removing organic matter in drinking water. Activated carbon is used in many household drinking water filters and fish tank filters to remove harmful organic molecules in the filtration step of the water treatment process and to increase the clarity and potability of the water. If this process is found to be viable, it is important for the process to be scaled up so that it can be used in larger scale plants and not just in the lab setting. If the use of a mixture of activated carbon and polyaluminum chloride is found to be an efficient process, it could revolutionize the efficiency of the AguaClara plants and be used further in other water treatment plants.\n",
        "\n",
        "In this research, humic acid will be used as a contaminant as humic acid is commonly present in groundwater at concentrations ranging from under 1mg/L to 30mg/L, and its removal is a relevant problem in wastewater treatment due its potential for forming carcinogens during disinfection and chlorination (Grzegorzek & Majewska-Nowak 2017). Humic acid also has a brown color and therefore, ultraviolet spectrophotometry in addition to turbidity may be used to determine the clarity of the water. The Activated Carbon Subteam is building on the work of the Humic Acid Subteam by using the values of the optimal coagulant dosage that the Humic Acid Subteam had found previously. The values of wavelength of maximum absorbance of humic acid will also be used to construct a calibration curve and use data from a spectrophotometer. The Activated Carbon subteam is essentially expanding upon the work of the Humic Acid  team and is trying use a new type of flocculation system to find an optimal coagulant dosage and powdered activated carbon dosage.\n",
        "\n",
        "\n"
      ]
    },
    {
      "cell_type": "markdown",
      "metadata": {
        "id": "4ipRRAXDlk31"
      },
      "source": [
        "## **Literature Review**\n",
        "PAC is commonly used in water treatment for the removal of dissolved organic compounds. Applying PAC to a floc blanket reactor (FBR) system that removes atrazine, Campos et. al. conducted experimental trials that measured the steady-state removal of atrazine against different dosages (2mg/l, 4mg/l, and 8mg/l) of PAC. Their results indicated that the dosage of 8mg/l was able to achieve the highest average atrazine removal rate of 93% (Campos et. al. 2000). The effects of carbon dose and hydraulic loading rate on carbon concentration and carbon retention time (CRT) in the floc blanket were also evaluated. As reported, for a PAC dose of 10mg/l, a reduction in the CRT from 25 to 10 hours resulted in an increase in the hydraulic loading rate from 1 to 1.5m/h, which has important engineering implications since this result suggests that a decrease in CRT may reduce PAC absorption efficiency (Campos et. al. 2000). Thus, careful considerations must be made when deciding on process flow rates during experimental trials since varying the residence time in the upflow blanket reactor may result in a less desirable PAC absorption efficiency.\n",
        "In terms of methods of application, PAC is most generally applied in water treatment plants at the rapid mix unit in order to provide enough absorption time as the water flows through the flocculation and sedimentation units. According to a report published by the National Research Council (US) Safe Drinking Water Committee, although PAC has conventionally been used to treat organic compounds that cause offensive taste and odor, large molecules such as humic acid diffuse slowly, and it is very likely that absorption equilibrium cannot be achieved in the available residence time of the carbon (National Research Council 1980). In addition, when PAC is applied to water containing chlorine, the carbon will act as a reducing agent, which will increase the required chlorine to achieve disinfection. These results concern a system that may not involve efficient removal of PAC after the sedimentation unit, thus more research is recommended to determine whether or not a PAC and polyaluminum chloride (PACl) conjoined system is justified.\n",
        "\n",
        "Examining a more recently published article written by Tomaszewska et. al. suggests promising results from a PAC and PACl conjoined system. Jar tests simulating a water treatment system using PAC and PACl (coagulant) to remove humic acid and phenol were conducted with two different methods of process performance: (1) coagulant was added after 60-min adsorption on PAC and (2) coagulant and PAC were added simultaneously. Results suggested that the former method was more desirable: when the adsorption was conducted before coagulation, not only was a more complete removal of phenol achieved, flocs also exhibited a greater surface, which enlarged their settleability (Tomaszewska et. al. 2004). The article concluded that the effectiveness of organics removal by coagulation without the addition of PAC was much lower."
      ]
    },
    {
      "cell_type": "markdown",
      "source": [
        "## **Previous Work**\n",
        "\n",
        "As of Spring 2020, Activated Carbon became a new addition to the Dissolved Species Removal Research Teams of AguaClara Cornell. The Activated Carbon subteam was established on the basis that a PAC and PACl conjoined system within upflow blanket reactors (FBRs) could reduce retention time and lead to more efficient removal of dissolved organic compounds within AguaClara’s current water treatment process, producing higher quality water with potentially lower cost. Due to similarities in the nature of experimental work carried by the Activated Carbon and Humic Acid subteams, results and experimental models from previous Humic Acid subteams can be examined and used but with an additional consideration of introducing PAC into the experimental setup.\n",
        "The Fall 2017 and Spring 2018 Humic Acid sub-teams identified optimal coagulant dosages for 5mg/L and 10mg/L HA concentrations (shown in Table 1 below), which could be referenced in testing for the optimal dosage ratios of PAC to coagulant for specific HA concentrations. In addition, the Spring 2018 Humic Acid subteam found that as HA concentration increases, the optimal coagulant dosage drops down slightly. However, the team cannot conclude that increasing HA concentration will decrease the optimal coagulant dosage, as this does not follow Beer's Law. This suggests that wider ranges of HA concentrations should also be tested for its optimal PAC to PACl dosage ratios for a more comprehensive analysis.\n",
        "<br/><br/>\n",
        "**Table 1:** Results from Spring 2018 Humic Acid Team\n",
        "\n",
        "| Humic Acid Concentration (mg/L) | Optimal Coagulant Dosage (mg/L) | \n",
        "| :---: | :---: | \n",
        "| 5 | 1.6-1.8 | \n",
        "| 10 | 1.3 | \n",
        "\n",
        "<br/><br/>\n",
        "In the Fall 2019 semester, the Humic Acid team investigated whether it would be possible to form flocs using coagulant only (without the presence of clay to help the particles flocculate better). They found that flocs did in fact form, however, they were too small to form a floc blanket, and thus, the effluent water’s absorbance value was not as low as anticipated. Due to those results, this semester, our team’s goal is to investigate whether activated carbon is a more suitable method of removing humic acid from water that does not have clay.\n",
        "\n",
        "In Spring 2020, the Activated Carbon subteam designed and implemented a set up for experimentation. (Fig. 1 and Fig. 2). \n",
        "<br>\n",
        "\n",
        "In Fall 2021, the Activated Carbon subteam has designed a method of powderizing the activated carbon without a mortar and pestle. Several different techniques were trialed using different lab equipment, and it was found that the most efficient way was to use a PVC float valve and a large beaker with a minimal amount of carbon. Table 4 contains the comparisons in textures of PAC  using different methods The procedure for the most optimal method was included in the procedure section.\n",
        "\n",
        "Due to the shape resembling that of a pestle and the material being rigid, using the PVC Float Valve to crush the Activated Carbon in the beaker was surprisingly effective. After roughly 25 minutes of crushing, much of the Activated Carbon (~10 grams used as a base test) was sufficiently powdered to be filtered through. <br/><br/>\n",
        "**Table 2:** Comparison of powderizing methods\n",
        "<br/>\n",
        "<center>\n",
        "<img src= \"https://drive.google.com/uc?export=view&id=1f5fEP9wdNwffkvoWYbAC_vyjmMGIMGdO\" height=400>\n",
        "</center>\n"
      ],
      "metadata": {
        "id": "lX8vEAXzHEMs"
      }
    },
    {
      "cell_type": "markdown",
      "source": [
        "## **Methods**\n",
        "<br/>\n",
        "   <center>\n",
        "    <img src=\"https://github.com/AguaClara/activated_carbon/blob/master/Apparatus.png?raw=true\" height=500>\n",
        "    </center>\n",
        "\n",
        "Figure 1: Experimental Apparatus\n",
        " <br/><br/>\n",
        "   <center>\n",
        "    <img src=\"https://github.com/brensolc/activated_carbon/blob/master/Images/Esquema%201.jpeg?raw=true\" height=300>\n",
        "  </center>\n",
        "\n",
        "Figure 2: Diagram of apparatus\n",
        "<br/><br/>\n",
        "  </center>\n",
        "<br/>\n",
        "**Table 3:** Data Collected from the Activated Carbon Subteam in Spring 2020\n",
        "    <img src=\"https://github.com/brensolc/activated_carbon/blob/master/Images/experiments.JPG?raw=true\" height=150>\n",
        "  </center>\n",
        " \n",
        "<br/><br/>\n",
        "### Experimental Setup\n",
        "- 5 Golander pumps\n",
        "- 1 Water pump\n",
        "- 2 Turbidimeters\n",
        "- 1-inch wide sedimentation tube (top half = 36.12 cm long, bottom half = 48.15 cm long)\n",
        "- Flocculator\n",
        "- 3 1-litre stock tanks\n",
        "- Spectrophotometer UV-1600PC\n",
        "- Stir plate\n",
        "- Stir bar\n",
        "- 50 mg/L Polyaluminum Chloride (PACl) Stock Solution\n",
        "- 5 mg/L Humic Acid Stock Solution\n",
        "- 5000 mg/L Powdered Activated Carbon (PAC) Stock Solution\n",
        "- Quartz cuvettes\n",
        "- Microbore tubing\n",
        "- PVC Float Valve\n",
        "- Beaker (Plastic, 500 mL)\n",
        "\n",
        "Refer to Previous Work for schematic and image of apparatus set-up\n",
        "<br/><br/>\n",
        "### Procedure\n",
        "The steps outlined below describe the process flow procedure.\n",
        "\n",
        "1. Place at least 5 g of activated carbon in a 500 mL beaker.\n",
        "2. Grind the activated carbon using the float in a similar fashion to a mortar and pestle until the activated carbon is able to pass through a filter. Repeat until 5 g of powdered activated carbon is obtained. \n",
        "3. Calibrate the spectrophotometer and other necessary equipment.\n",
        "4. Water flows through the tap to the main tube.\n",
        "5. Humic acid flows through the stock solution and is added to the water.\n",
        "6. Powdered activated carbon flows through the stock and is added to the system.\n",
        "7. The flow passes through a turbidimeter.\n",
        "8. Coagulant flows through the stock solution to the main tube.\n",
        "9. The flow passes through a flocculator and then to the sedimentation tube.\n",
        "10. The water goes to a turbidimeter.\n",
        "11. Samples are taken to measure absorbance using the spectrophotometer.\n",
        "12. The effluent goes to the waste pipe.\n",
        " \n",
        "The baseline experiment, which will be used to establish the least amount of coagulant for 5 mg/L of humic acid necessary for floc formation. The procedure is as detailed above, except with the absence of the addition of activated carbon in Step 4 above. Table 3 contains the rpms that will be used, which were all calculated with Python code (found in the Python code section below).\n",
        "<br/><br/>\n",
        "**Table 4:** Calculated Parameter Values for Baseline Experiment\n",
        "\n",
        "|Trial|PACl Concentration (mg/L)|PACl Flow Rate (mL/s)| PACl rpm| Humic Acid Concentration (mL/s)| Humic acid flow rate (mL/s) |Humic acid rpm| Water flow rate (mL/s)|\n",
        "|:---:|:---:|:---:|:---:|:---:|:---:|:---:|:---:|\n",
        "|1|0.5|0.005067|0.2607|5|0.5067|26.0666|0.5067|\n",
        "|2|1|0.01013|0.5213|5|0.5067|26.0666|0.5067|\n",
        "|3|1.5|0.0152|0.7819|5|0.5067|26.0666|0.5067|\n",
        "|4|2|0.02027|1.043|5|0.5067|26.0666|0.5067|\n",
        "|5|2.5|0.02534|1.303|5|0.5067|26.0666|0.5067|\n",
        "|6|3|0.03040|1.564|5|0.5067|26.0666|0.5067|\n"
      ],
      "metadata": {
        "id": "Y-evsmY8FKDl"
      }
    },
    {
      "cell_type": "markdown",
      "metadata": {
        "id": "A9c0Dr8rCujT"
      },
      "source": [
        "\n",
        "### Powderizing Method\n",
        "Materials:\n",
        " - PVC Float Valve (see picture for reference)\n",
        " - Beaker (Plastic, around 500 mL) <br/>\n",
        " \n",
        "Procedure:\n",
        "1. Place 10 g activated carbon in a 500 mL beaker.\n",
        "2. Grind the activated carbon using the Float in a similar fashion to a mortar and pestle. Using sufficient pressure with a rotational motion seems to be the most effective.\n",
        " \n",
        "\n",
        "\n"
      ]
    },
    {
      "cell_type": "markdown",
      "source": [
        "## **Current Work**\n",
        "Since Fall 2021, the team, along with the Humic Acid Removal subteam, has discovered the incapability of bringing treated, clean water out of the sedimentation tube and into the effluent turbidimeter. The two teams observed that, with the valve controlling the outflow of wastewater open, no water could build up and reach the top of the sedimentation tube, where clean water is supposed to enter the tubing connected to the effluent turbidimeter, due to gravity. \n",
        "\n",
        "After consulting Monroe and Ron, the team has added another wastewater pump, controlling (basically reducing) the outward flow of the flocs-containing water in the sedimentation tube, and an effluent pump, pumping effluent water out of the entire system. Since the pumps are not Golander pumps, the team is currently control these pumps manually, and is also working with the Lab RA to find more suitable pumps that can be controlled by ProCoDA. Since the flocs observed in the sedimentation tube have been fairly large in size, the team is also working on finding tubes with appropriate diameter."
      ],
      "metadata": {
        "id": "0mZ1kXbS1d53"
      }
    },
    {
      "cell_type": "markdown",
      "metadata": {
        "id": "4m-fx7GnC6a-"
      },
      "source": [
        "#**Future Plans**#\n",
        "Now that the experimental setup has been determined, the next step would be to obtain 5g of PAC, suspend it in water using a stir plate, use a pump to mix PAC with PACl and HA, and lastly observe its effects on the level of turbidity using a spectrophotometer or turbidimeter. This turbidimeter must first be calibrated with a turbidimeter calibration kit that is not yet available for us. Also, only the existing pump for PAC solution has been connected with ProCoDA while the two additional pumps are still being controlled manually. There is also a problem with the tubing for our smaller waste water pump which prevents flocs to flow through because of its small diameter. Therefore, our goal for the next two weeks is to try attaching an additional pump head to the bigger pump and change the tubing so that the waster water with flocs and the effluent water can be pumped by the same machine out into the waste water tube. With that done, our ultimate goal for the semester is to get the setup running and to collect data on how PAC concentration affects the percentage of humic acid removed."
      ]
    },
    {
      "cell_type": "markdown",
      "metadata": {
        "id": "8WdhCMcNC00a"
      },
      "source": [
        "#**Conclusion**#\n",
        "\n",
        "\n",
        "We have successfully connected our PAC solution pump to ProCoDa  and had PAC solution running through the system. Additionally, we have located and addressed the problem of waste water not being carried up the waste water tube by adding two additional pumps, one connecting to the end of the sedimentation tube and one connected to the effluent turbidimeter. The effluent pump is controlled manually and has been confirmed to be effective at pumping the water up the wastewater tube. Moving on from this, we hope to further improve our setup and incorporate PAC into our filtering system to examine its effectiveness in aiding floc sedimentation.\n"
      ]
    },
    {
      "cell_type": "markdown",
      "metadata": {
        "id": "fZyCYDraC80B"
      },
      "source": [
        "## **Bibliography**\n",
        "\n",
        "Campos, C., Snoeyink, V. L., Mariñas, B., Baudin, I., &amp; Lainé, J. (2000). Atrazine removal by powdered activated carbon in floc blanket reactors. Water Research, 34(16), 4070-4080. doi:10.1016/s0043-1354(00)00169-x\n",
        "\n",
        "Grzegorzek, M., &amp; Majewska-Nowak, K. (2017). The influence of humic acids on desalination process with the use of electrodialysis. E3S Web of Conferences, 17, 00027. https://doi.org/10.1051/e3sconf/20171700027 \n",
        "\n",
        "National Research Council (US) Safe Drinking Water Committee. (1980, January 1). An Evaluation of Activated Carbon for Drinking Water Treatment.\n",
        "\n",
        "Tomaszewska, M., Mozia, S., &amp; Morawski, A. W. (2004). Removal of organic matter by coagulation enhanced with adsorption on pac. Desalination, 161(1), 79-87. doi:10.1016/s0011-9164(04)90042-2\n",
        "\n"
      ]
    },
    {
      "cell_type": "markdown",
      "metadata": {
        "id": "oDYGZ4TkC-H2"
      },
      "source": [
        "# **Manual**\n"
      ]
    },
    {
      "cell_type": "markdown",
      "metadata": {
        "id": "OH4T3NMQDE84"
      },
      "source": [
        "## Experimental Methods\n",
        "\n",
        "###Set-up of experimental apparatus\n",
        "\n",
        "1. Drain the sedimentation tank.\n",
        "2. Clean the flocculator and sedimentation tank (refer to Cleaning Procedure)\n",
        "3. Clean out the flocculator in the reverse direction (refer to Cleaning Procedure)\n",
        "4. Disconnect the coagulant tube from the system, turn on the pump, and check that coagulant is running through. If it is, reconnect the tube to the system.\n",
        "5. Run water through the system while bypassing the pressure attenuator.\n",
        "6. After the water reaches the top of the sed tank, shut off the water pump and drain the sedimentation tank again.\n",
        "7. Run water only through the system until effluent turbidity stabilizes near 0 NTU (ideally below 1.0 NTU). It is natural for influent and effluent turbidity to rise at first in this step.\n",
        "8. Clean out the influent and effluent turbidimeters (refer to Cleaning Procedure)\n",
        "9. Direct the flow to waste instead of the flocculator as shown in the diagram below.\n",
        "10. Allow influent turbidity to stabilize to appropriate NTU level.\n",
        "11. Redirect the flow back to the flocculator and main system. Turn on the coagulant pump to start the experiment.\n",
        "\n",
        "####ProCoDa Tips and Tricks\n",
        "1. Make sure first and foremost that the set points are in the proper order (to access the set points, click \"Edit Rules\"). The variables that say \"___ Control\" will have a list of required selected set points at the bottom, and the set points you select should follow the order listed. See the below image for an example.\n",
        "\n",
        "<img src= \"https://drive.google.com/uc?export=view&id=19X6ZPI58KJmeNeWI_FBGtN9apoYEqPvN\" height=600>\n",
        "\n",
        "Figure 4: Example of the proper set point order, as well as the set points to select for the PAC Control variable. COM PORT is selected but off-screen. \"PAC pump ID\" correlates with the pump address, \"ON STATE\" with the on state, \"orange_yellow_vol/rev\" with the pump used, and \"PAC flow\" with the flow rate.\n",
        "\n",
        "\n",
        "2. To get all pumps running, select the \"Run\" State (under Rules & Outputs). First make sure that all pumps are turned on and connected.\n",
        "\n",
        "####Spectrophotometer\n",
        "1. Turn on and allow the spectrophotometer to self-check: remove all light blocks and close the lid while doing so.\n",
        "2. Warm up for 20 minutes.\n",
        "3. Select the photometry option.\n",
        "4. Set photometric mode.\n",
        "5. Set wavelength and parameters.\n",
        "6. Clear unrelated values, test results, and stored data.\n",
        "7. Place Reference solution in the light path and press zero.\n",
        "8. Measure samples\n",
        "10. Use quantitation mode for standard curve.\n",
        "\n",
        "###Cleaning Procedure\n",
        "\n",
        "####Cleaning the flocculator and sedimentation tank:\n",
        "1. Close values leading to the flocculator.\n",
        "2. Take the disconnected effluent tube and connect it to the end of the flocculator.\n",
        "3. Connect one end of a long cleaning tube to the system just before the coagulant entry point.\n",
        "4. Connect the other end of the cleaning tube to the sink and turn on the faucet slowly. Make sure that the water is not rising more than a couple inches from the bottom of the sedimentation tank. Continue for 30 seconds.\n",
        "\n",
        "####Cleaning out the flocculator in the reverse direction\n",
        "1. Just before the coagulant entry point, swap the cleaning tube for another tube long enough to reach a waste bucket or tub. This can be a new tube or, as shown in the diagram, the waste tube that drains the sedimentation tank.\n",
        "2. Connect the cleaning tube to the end of the flocculator.\n",
        " \n",
        "####Cleaning out the influent and effluent turbidimeters\n",
        "Turbidimeters should be emptied and washed out before every experiment. Even if the reading displays 0.0 NTU, there may be flocs that have collected in the top or bottom of the turbidimeter vials. These deposits can interfere with your experimental results, as they can be stirred up again by changes in flow rate.\n",
        " \n",
        "1. Close the valves adjacent to the turbidimeter inlet and outlet so that water does not leak into it while cleaning.\n",
        "2. Unlock and take out the black cylinder on top of the turbidimeter.\n",
        "3. Unscrew the glass vial, empty and rinse it, then fill it with clean water. Tap water is sufficient. If there is still buildup or the glass is dirty wrap two Kim wipes around a brush until it is covered and use that to scrub the inside of the vial.\n",
        "4. Tightly screw the vial back in, wipe it with a Kim wipe free from water droplets or fingerprints, and then lock the black cylinder back into the turbidimeter.\n",
        "5. If you used the white screws on the outflow turbidimeter tubes to block water passage, remember to unscrew them.\n"
      ]
    },
    {
      "cell_type": "markdown",
      "metadata": {
        "id": "7Nhn0HGZpXsy"
      },
      "source": [
        "## Experimental Checklist\n",
        "1. Calibrate all instruments, especially the spectrophotometer.\n",
        "2. Make sure all instruments have been cleaned (and disinfected if necessary).\n",
        "3. Ensure that all electrical connections to the ProCoDa hardware are correct. Do not confuse inputs and outputs.\n",
        "4. Check that the setpoints for ProCoDa are in the correct order.\n",
        "5. Ensure that only quartz cuvettes are being used in the spectrophotometer.\n",
        "6. Ensure that the question being investigated can be answered by doing research.\n"
      ]
    },
    {
      "cell_type": "markdown",
      "metadata": {
        "id": "EBm0vQtfjgkO"
      },
      "source": [
        "##Python code"
      ]
    },
    {
      "cell_type": "code",
      "metadata": {
        "colab": {
          "base_uri": "https://localhost:8080/"
        },
        "id": "DwOWBtrmji8o",
        "outputId": "a594f69c-50de-4663-bd92-65adbdc47b40"
      },
      "source": [
        "# test between 0.5 and 3 mg/L of coagulant, in 0.5mg/L increments\n",
        "# use only coagulant and humic acid for baseline to see where we see flocs\n",
        "# figure out flow rate for coagulant\n",
        "\n",
        "!pip install aguaclara\n",
        "\n",
        "from aguaclara.core.units import unit_registry as u\n",
        "import aguaclara as ac\n",
        "import numpy as np\n",
        "\n",
        "vol_per_rev = ac.vol_per_rev_3_stop(color=\"orange-yellow\") #volume of flow per revolution of pump\n",
        "sed_diameter = 1 * u.inch  \n",
        "sed_cross_sec = ac.area_circle(sed_diameter)   \n",
        "upflow_rate = 1 * u.mm/u.s  #velocity at which water flows up the sedimentation tube\n",
        "total_flow = (sed_cross_sec * upflow_rate).to(u.mL/u.s)  #volume which flows up sedimentation tube per second\n",
        "print('The total flow rate is', total_flow)\n",
        "\n",
        "#finding PACl flow rate and rpm for target conc\n",
        "PACl_dose_conc = [0.5, 1, 1.5, 2, 2.5, 3]\n",
        "PACl_stock_conc = 500 * (u.mg/u.L)\n",
        "PACl_flow_rate = []\n",
        "PACl_rpm = []\n",
        "\n",
        "for i in PACl_dose_conc:\n",
        "  PACl_target_conc = i*(u.mg/u.L)\n",
        "  PACl_flow_rate_value = (total_flow*PACl_target_conc/PACl_stock_conc) \n",
        "  PACl_rpm_value = PACl_flow_rate_value/vol_per_rev\n",
        "\n",
        "  PACl_flow_rate.append(PACl_flow_rate_value.magnitude)\n",
        "  PACl_rpm.append(PACl_rpm_value.magnitude)\n",
        "\n",
        "\n",
        "print('The PACl flow rate is: ', PACl_flow_rate, 'mL/s')\n",
        "print('The PACl rpm is: ', PACl_rpm, 'rpm')\n",
        "\n",
        "#finding HA flow rate and rpm for target concentration\n",
        "HA_dose_conc = [5]\n",
        "HA_stock_conc = 5*(u.mg/u.L)\n",
        "HA_flow_rate = []\n",
        "HA_rpm = []\n",
        "\n",
        "for i in HA_dose_conc:\n",
        "  HA_target_conc = i*(u.mg/u.L)\n",
        "  HA_flow_value = (total_flow*HA_target_conc/HA_stock_conc)\n",
        "  HA_rpm_value = HA_flow_value/vol_per_rev\n",
        "  HA_flow_rate.append(HA_flow_value.magnitude)\n",
        "  HA_rpm.append(HA_rpm_value.magnitude)\n",
        "\n",
        "print('The humic acid flow rate is:' , HA_flow_rate, 'mL/s')\n",
        "print('The humic acid rpm is: ', HA_rpm, 'rpm')"
      ],
      "execution_count": null,
      "outputs": [
        {
          "output_type": "stream",
          "name": "stdout",
          "text": [
            "Requirement already satisfied: aguaclara in /usr/local/lib/python3.7/dist-packages (0.2.10)\n",
            "Requirement already satisfied: scipy in /usr/local/lib/python3.7/dist-packages (from aguaclara) (1.4.1)\n",
            "Requirement already satisfied: onshape-client in /usr/local/lib/python3.7/dist-packages (from aguaclara) (1.6.3)\n",
            "Requirement already satisfied: urllib3 in /usr/local/lib/python3.7/dist-packages (from aguaclara) (1.24.3)\n",
            "Requirement already satisfied: pandas in /usr/local/lib/python3.7/dist-packages (from aguaclara) (1.1.5)\n",
            "Requirement already satisfied: matplotlib in /usr/local/lib/python3.7/dist-packages (from aguaclara) (3.2.2)\n",
            "Requirement already satisfied: pint in /usr/local/lib/python3.7/dist-packages (from aguaclara) (0.18)\n",
            "Requirement already satisfied: pyparsing!=2.0.4,!=2.1.2,!=2.1.6,>=2.0.1 in /usr/local/lib/python3.7/dist-packages (from matplotlib->aguaclara) (3.0.6)\n",
            "Requirement already satisfied: python-dateutil>=2.1 in /usr/local/lib/python3.7/dist-packages (from matplotlib->aguaclara) (2.8.2)\n",
            "Requirement already satisfied: kiwisolver>=1.0.1 in /usr/local/lib/python3.7/dist-packages (from matplotlib->aguaclara) (1.3.2)\n",
            "Requirement already satisfied: cycler>=0.10 in /usr/local/lib/python3.7/dist-packages (from matplotlib->aguaclara) (0.11.0)\n",
            "Requirement already satisfied: numpy>=1.11 in /usr/local/lib/python3.7/dist-packages (from matplotlib->aguaclara) (1.19.5)\n",
            "Requirement already satisfied: six>=1.5 in /usr/local/lib/python3.7/dist-packages (from python-dateutil>=2.1->matplotlib->aguaclara) (1.15.0)\n",
            "Requirement already satisfied: nulltype in /usr/local/lib/python3.7/dist-packages (from onshape-client->aguaclara) (2.3.1)\n",
            "Requirement already satisfied: requests-oauthlib in /usr/local/lib/python3.7/dist-packages (from onshape-client->aguaclara) (1.3.0)\n",
            "Requirement already satisfied: certifi>=2017.4.17 in /usr/local/lib/python3.7/dist-packages (from onshape-client->aguaclara) (2021.10.8)\n",
            "Requirement already satisfied: ruamel.yaml in /usr/local/lib/python3.7/dist-packages (from onshape-client->aguaclara) (0.17.17)\n",
            "Requirement already satisfied: pytz>=2017.2 in /usr/local/lib/python3.7/dist-packages (from pandas->aguaclara) (2018.9)\n",
            "Requirement already satisfied: packaging in /usr/local/lib/python3.7/dist-packages (from pint->aguaclara) (21.3)\n",
            "Requirement already satisfied: importlib-metadata in /usr/local/lib/python3.7/dist-packages (from pint->aguaclara) (4.8.2)\n",
            "Requirement already satisfied: typing-extensions>=3.6.4 in /usr/local/lib/python3.7/dist-packages (from importlib-metadata->pint->aguaclara) (3.10.0.2)\n",
            "Requirement already satisfied: zipp>=0.5 in /usr/local/lib/python3.7/dist-packages (from importlib-metadata->pint->aguaclara) (3.6.0)\n",
            "Requirement already satisfied: oauthlib>=3.0.0 in /usr/local/lib/python3.7/dist-packages (from requests-oauthlib->onshape-client->aguaclara) (3.1.1)\n",
            "Requirement already satisfied: requests>=2.0.0 in /usr/local/lib/python3.7/dist-packages (from requests-oauthlib->onshape-client->aguaclara) (2.23.0)\n",
            "Requirement already satisfied: chardet<4,>=3.0.2 in /usr/local/lib/python3.7/dist-packages (from requests>=2.0.0->requests-oauthlib->onshape-client->aguaclara) (3.0.4)\n",
            "Requirement already satisfied: idna<3,>=2.5 in /usr/local/lib/python3.7/dist-packages (from requests>=2.0.0->requests-oauthlib->onshape-client->aguaclara) (2.10)\n",
            "Requirement already satisfied: ruamel.yaml.clib>=0.1.2 in /usr/local/lib/python3.7/dist-packages (from ruamel.yaml->onshape-client->aguaclara) (0.2.6)\n",
            "The total flow rate is 0.5067 milliliter / second\n",
            "The PACl flow rate is:  [0.0005067074790974978, 0.0010134149581949956, 0.0015201224372924935, 0.002026829916389991, 0.002533537395487489, 0.003040244874584987] mL/s\n",
            "The PACl rpm is:  [0.02606655224699262, 0.05213310449398524, 0.07819965674097787, 0.10426620898797048, 0.1303327612349631, 0.15639931348195574] rpm\n",
            "The humic acid flow rate is: [0.5067074790974978] mL/s\n",
            "The humic acid rpm is:  [26.06655224699262] rpm\n"
          ]
        }
      ]
    }
  ]
}