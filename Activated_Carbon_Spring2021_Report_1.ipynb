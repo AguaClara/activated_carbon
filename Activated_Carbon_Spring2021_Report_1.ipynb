{
  "nbformat": 4,
  "nbformat_minor": 0,
  "metadata": {
    "colab": {
      "name": "Activated_Carbon_Spring2021_Report_1.ipynb",
      "provenance": [],
      "collapsed_sections": [],
      "include_colab_link": true
    },
    "kernelspec": {
      "name": "python3",
      "display_name": "Python 3"
    }
  },
  "cells": [
    {
      "cell_type": "markdown",
      "metadata": {
        "id": "view-in-github",
        "colab_type": "text"
      },
      "source": [
        "<a href=\"https://colab.research.google.com/github/AguaClara/activated_carbon/blob/master/Activated_Carbon_Spring2021_Report_1.ipynb\" target=\"_parent\"><img src=\"https://colab.research.google.com/assets/colab-badge.svg\" alt=\"Open In Colab\"/></a>"
      ]
    },
    {
      "cell_type": "markdown",
      "metadata": {
        "id": "sNv8dIrSCc6X"
      },
      "source": [
        "# AguaClara Research Report & Manual Template\n",
        "#### March 1st, 2020\n",
        "\n",
        "<!-- Template Description -->\n",
        "This template will lay out all possible sections that could be used for a research report and manual. All research reports and manuals should strive to comply with this template, but not all sections will be relevant to all teams. In order to use this template, select **File** -> **Save a Copy** in Drive, then share the copy with your team members and rename it for your team in a format similar to  \"[Team Name] [Semester] [Report x]\".  When you are done with the report, select **File** -> **Save a Copy in Github** and save a copy to your teams Github repo.  Finally, share the link with the graders at aguaclaragraders@gmail.com.\n",
        "\n",
        "For guidance on writing Markdown documents, refer to the [AguaClara Tutorial wiki pages](https://aguaclara.github.io/aguaclara_tutorial/). Once you are ready to write your report, please delete this description and everything above."
      ]
    },
    {
      "cell_type": "markdown",
      "metadata": {
        "id": "TLAmaRBfCmiy"
      },
      "source": [
        "# Activated Carbon, Spring 2021\n",
        "#### Nathan Catoera, Christopher Chan, Samantha Wang\n",
        "#### 03/19/2021"
      ]
    },
    {
      "cell_type": "markdown",
      "metadata": {
        "id": "BfeU4k7OCphn"
      },
      "source": [
        "## Abstract\n",
        "\n",
        "The Activated Carbon Subteam aims to find if the use of activated carbon would be efficient to use in AguaClara water treatment plants and if so, calculate an optimal dosage of activated carbon. This is the second semester that this team is included as a part of AguaClara's Particle Removal and Dissolved Species Subteams. In the future, Activated Carbon hopes to ultimately upscale the process so that it can be implemented in AguaClara plants.\n"
      ]
    },
    {
      "cell_type": "markdown",
      "metadata": {
        "id": "EqtwU-gRCrj9"
      },
      "source": [
        "## Introduction\n",
        "Activated Carbon's goal is to find a new and efficient way to implement the use of activated carbon before the flocculation unit process to improve the efficiency of the AguaClara water treatment plants. This research will expand the mission of providing safe water on tap because it is based off of a new design where both powdered activated carbon (PAC), as a filtrant, and polyaluminum chloride (PACl), as a coagulant, would be used to remove particles. The reason that this area is being researched is coagulant is not very efficient at binding to and removing organic matter in drinking water. Activated carbon is used in many household drinking water filters and fish tank filters to remove harmful organic molecules in the filtration step of the water treatment process and increase the clarity and potability of the water. If this process is found to be viable, it is important for the process to be scaled up so that it can be used in larger scale plants and not just in the lab setting. If the use of a mixture of activated carbon and polyaluminum chloride is found to be an efficient process, it could revolutionize the efficiency of the AguaClara plants and be used further in other water treatment plants.\n",
        "\n",
        "Activated Carbon is a new subteam; therefore, there are minimal previous works to build upon. However, in this research, humic acids will be used as a contaminant because it is in organic compounds that the coagulant has trouble removing in the first place. It also has a brown color to it and therefore, ultraviolet spectrophotometry in addition to turbidity may be used to determine the clarity of the water. Therefore, the Activated Carbon Subteam is building on the work of the Humic Acid Subteam by using the values of the optimal coagulant dosage that the Humic Acid Subteam had found previously. The values of wavelength of maximum absorbance of humic acid will also be used to construct a calibration curve and use data from a spectrophotometer. This subteam is essentially branching from what Humic Acid has been working on and using a new type of flocculation system to find an optimal coagulant dosage and powdered activated carbon dosage.\n",
        "\n",
        "\n"
      ]
    },
    {
      "cell_type": "markdown",
      "metadata": {
        "id": "FLDOXtNqCtAW"
      },
      "source": [
        "## Literature Review\n",
        "PAC is commonly used in water treatment for the removal of dissolved organic compounds. Applying PAC to a floc blanket reactor (FBR) system that removes atrazine, Campos et. al. conducted experimental trials that measured the steady-state removal of atrazine against different dosages (2mg/l, 4mg/l, and 8mg/l) of PAC. Their results indicated that the dosage of 8mg/l was able to achieve the highest average atrazine removal rate of 93% (Campos et. al. 2000). The effects of carbon dose and hydraulic loading rate on carbon concentration and carbon retention time (CRT) in the floc blanket were also evaluated. As reported, for a PAC dose of 10mg/l, a reduction in the CRT from 25 to 10 hours resulted in an increase in the hydraulic loading rate from 1 to 1.5m/h, which has important engineering implications since this result suggests that a decrease in CRT may reduce PAC absorption efficiency (Campos et. al. 2000). Thus, careful considerations must be made when deciding on process flow rates during experimental trials since varying the residence time in the upflow blanket reactor may result in a less desirable PAC absorption efficiency.\n",
        "In terms of methods of application, PAC is most generally applied in water treatment plants at the rapid mix unit in order to provide enough absorption time as the water flows through the flocculation and sedimentation units. According to a report published by the National Research Council (US) Safe Drinking Water Committee, although PAC has conventionally been used to treat organic compounds that cause offensive taste and odor, large molecules such as humic acid diffuse slowly, and it is very likely that absorption equilibrium cannot be achieved in the available residence time of the carbon (1980). In addition, when PAC is applied to water containing chlorine, the carbon will act as a reducing agent, which will increase the required chlorine to achieve disinfection. These results concern a system that may not involve efficient removal of PAC after the sedimentation unit, thus more research is recommended to determine whether or not a PAC and polyaluminum chloride (PACl) conjoined system is justified.\n",
        "\n",
        "Examining a more recently published article written by Tomaszewska et. al. suggests promising results from a PAC and PACl conjoined system. Jar tests simulating a water treatment system using PAC and PACl (coagulant) to remove humic acid and phenol were conducted with two different methods of process performance: (1) coagulant was added after 60-min adsorption on PAC and (2) coagulant and PAC were added simultaneously. Results suggested that the former method was more desirable: when the adsorption was conducted before coagulation, not only was a more complete removal of phenol achieved, flocs also exhibited a greater surface, which enlarged their settleability (Tomaszewska et. al. 2004). The article concluded that the effectiveness of organics removal by coagulation without the addition of PAC was much lower.\n",
        "\n",
        "## Previous Work\n",
        "\n",
        "As of Spring 2020, Activated Carbon became a new addition to the Dissolved Species Removal Research Teams of AguaClara Cornell. The Activated Carbon subteam was established on the basis that a PAC and PACl conjoined system within upflow blanket reactors (FBRs) could reduce retention time and lead to more efficient removal of dissolved organic compounds within AguaClara’s current water treatment process, producing higher quality water with potentially lower cost. Due to similarities in the nature of experimental work carried by the Activated Carbon and Humic Acid subteams, results and experimental models from previous Humic Acid subteams can be examined and used but with an additional consideration of introducing PAC into the experimental setup.\n",
        "The Fall 2017 and Spring 2018 Humic Acid sub-teams identified optimal coagulant dosages for 5mg/L and 10mg/L HA concentrations (shown in Table 1 below), which could be referenced in testing for the optimal dosage ratios of PAC to coagulant for specific HA concentrations. In addition, the Spring 2018 Humic Acid subteam found that as HA concentration increases, the optimal coagulant dosage drops down slightly. However, the team cannot conclude that increasing HA concentration will decrease the optimal coagulant dosage, as a wider range of HA concentrations should be tested. This suggests that wider ranges of HA concentrations should also be tested for its optimal PAC to PACl dosage ratios for a more comprehensive analysis.\n",
        "\n",
        "**Table 1:** Results from Spring 2018 Humic Acid Team\n",
        "\n",
        "| Humic Acid Concentration (mg/L) | Optimal Coagulant Dosage (mg/L) | \n",
        "| :---: | :---: | \n",
        "| 5 | 1.6-1.8 | \n",
        "| 10 | 1.3 | \n",
        "\n",
        "In the Fall 2019 semester, the Humic Acid team investigated whether it would be possible to form flocs using coagulant only (without the presence of clay to help the particles flocculate better). They found that flocs did in fact form, however, they were too small to form a floc blanket, and thus, the effluent water’s absorbance value was not as low as anticipated. Due to those results, this semester, our team’s goal is to investigate whether activated carbon is a more suitable method of removing humic acid from water that does not have clay.\n",
        "\n",
        "In Spring 2020, the Activated Carbon subteam designed and implemented a set up for experimentation. (Fig. 1 and Fig. 2). \n",
        "\n",
        "\n",
        "   <center>\n",
        "    <img src=\"https://github.com/brensolc/activated_carbon/blob/master/Images/lab%20bench%20set%20up.jpg?raw=true\" height=300>\n",
        "  </center>\n",
        "\n",
        "Figure 1: Experimental Apparatus\n",
        " \n",
        "   <center>\n",
        "    <img src=\"https://github.com/brensolc/activated_carbon/blob/master/Images/Esquema%201.jpeg?raw=true\" height=300>\n",
        "  </center>\n",
        "\n",
        "Figure 2: Diagram of apparatus\n",
        "\n",
        "  <center>\n",
        "    <img src=\"https://github.com/brensolc/activated_carbon/blob/master/Images/experiments.JPG?raw=true\" height=150>\n",
        "  </center>\n",
        "\n",
        "Figure 3: Data Collected from the Activated Carbon Subteam in Spring 2020 \n"
      ]
    },
    {
      "cell_type": "markdown",
      "metadata": {
        "id": "A9c0Dr8rCujT"
      },
      "source": [
        "## Methods\n",
        "Explain the techniques you have used to acquire additional data and insights. Reserve fine detail for the Manual at the end of the report, but use this section to give an overview with enough detail for the reader to understand your Results and Analysis. Be especially careful to detail the conditions your experiments were conducted under, as this information is especially important for interpreting your results.\n",
        "\n",
        "Below, some example sections are given. Sectioning the report is meant to keep similar information together.  Continue making sections as necessary, or delete sections if you do not need them. Feel free to add subsubsections to further delineate the information. For example, under the Experimental Apparatus section below, the EStaRS team might consider having sections such as \"Filter Design\" and \"Filter Fabrication\"."
      ]
    },
    {
      "cell_type": "markdown",
      "metadata": {
        "id": "P1KPU32VCw94"
      },
      "source": [
        "### Experimental Apparatus\n",
        "Describe your apparatus and justify every decision you made and every parameter you chose in its design. Explain your apparatus setup using enough detail such that future teams can recreate it.\n",
        "\n",
        "Make sure to include:\n",
        "\n",
        "* Design calculations\n",
        "  * Use [LaTeX](https://www.overleaf.com/learn/latex/Mathematical_expressions) to format mathematical equations. LaTeX equations can be written in-line ($x=\\frac{-b\\pm\\sqrt{b^2-4ac}}{2a}$) or as equation elements:\n",
        "\n",
        "  $$x=\\frac{-b\\pm\\sqrt{b^2-4ac}}{2a}$$  \n",
        "\n",
        " * Schematic drawing\n",
        "   * Clearly labeled components, flow paths, sensors, and reactor geometry.\n",
        "\n",
        "  <center>\n",
        "    <img src=\"https://raw.githubusercontent.com/AguaClara/team_resources/master/Images/Example%20Schematic.png\" height=300>\n",
        "  </center>\n",
        "\n",
        "  <center>\n",
        "    Figure 1. Above is an example schematic drawing of the Summer 2018 High Rate Sedimentation apparatus. It is labeled with components, flow paths, sensors, and reactor geometry.\n",
        "  </center>\n",
        "\n",
        "* Labeled images\n",
        "\n",
        "\n",
        "  <center>\n",
        "    <img src=\"https://raw.githubusercontent.com/AguaClara/team_resources/master/Images/Example%20Lab%20Image.JPG\" height=300>\n",
        "  </center>\n",
        "  <center>\n",
        "    Figure 2. Above is an example image of the Summer 2018 High Rate Sedimentation apparatus. All photos should be clearly labeled and captioned.\n",
        "  </center>\n",
        "\n",
        "  | Label | Component             | Label | Component             |\n",
        "  |:-----:|:--------------------- |:-----:|:--------------------- |\n",
        "  |   1   | Water Pump            |   8   | Effluent Turbidimeter |\n",
        "  |   2   | Clay Pump             |   9   | Pressure Attenuator   |\n",
        "  |   3   | Coagulant Pump        |  10   | Coagulant Stock       |\n",
        "  |   4   | Waste Pump            |  11   | Clay Stock            |\n",
        "  |   5   | Flocculator           |  12   | Sedimentation Tank    |\n",
        "  |   6   | Pressure Sensor       |  13   | Waste Tube            |\n",
        "  |   7   | Influent Turbidimeter |       |                       |\n"
      ]
    },
    {
      "cell_type": "markdown",
      "metadata": {
        "id": "8WdhCMcNC00a"
      },
      "source": [
        "\n",
        "### Procedure\n",
        "Discuss your experimental procedure. How did you run your experiment? What were you testing? What were the values of relevant parameters?"
      ]
    },
    {
      "cell_type": "markdown",
      "metadata": {
        "id": "TPiP9gijC3GV"
      },
      "source": [
        "## Results and Analysis\n",
        "Present an observation (results), then explain what happened (analysis).  Each paragraph should focus on one aspect of your results and interpret that result. In other words, there should not be two distinct paragraphs, but one paragraph containing one result and the interpretation and analysis of this result. Here are some guiding questions for results and analysis:\n",
        "\n",
        "When describing your results, present your data, using the guidelines below:\n",
        "* What happened? What did you find?\n",
        "* Show your experimental data in a professional way (see Figure Requirements).\n",
        "\n",
        "After describing a particular result, within a paragraph, go on to connect your work to fundamental physics, chemistry, statics, fluid mechanics, or whatever field is appropriate. Analyze your results and compare with theoretical expectations; or, if you have not yet done the experiments, describe your expectations based on established knowledge.\n",
        "* Why did you get those results/data?\n",
        "* Did these results line up with expectations?\n",
        "* What went wrong?\n",
        "* If the data do not support your hypothesis, is there another hypothesis that describes your new data?\n",
        "\n",
        "Include implications of your results. How will your results influence the design of AguaClara plants? If possible provide clear recommendations for design changes that should be adopted.\n"
      ]
    },
    {
      "cell_type": "markdown",
      "metadata": {
        "id": "tN-yJhe_C3pS"
      },
      "source": [
        "### Figure requirements\n",
        "The [Data Analysis in Python](https://aguaclara.github.io/aguaclara_tutorial/python/data-analysis.html) page of the AguaClara Tutorial wiki pages shows how to create graphs in Python to meet these requirements. Make sure to read the sections on [Plotting with Matplotlib](https://aguaclara.github.io/aguaclara_tutorial/python/data-analysis.html#plotting-with-matplotlib) and, if you are working with ProCoDA data files, [Reading ProCoDA Data with the AguaClara Package](https://aguaclara.github.io/aguaclara_tutorial/python/data-analysis.html#reading-procoda-data-with-the-aguaclara-package).\n",
        "\n",
        "Basics\n",
        "- Create your graphs using Python. Include the code for your graph in the Python Code section of your report.\n",
        "- Place a caption with a brief description below the graph. Add this caption using Markdown in Colab, not in your graphing software.\n",
        "- Insert the graph in your report after the first paragraph with a reference to it.\n",
        "\n",
        "Appearance\n",
        "- Use a white background.\n",
        "- Use the same font in the graphs as you use in the text of the report.\n",
        "- Scale the size of the graph so it is large enough to see the data and read the text without having to follow a link to see a larger image. Avoid using hyperlinks on images, because an export to Microsoft Word will not include the image.\n",
        "\n",
        " Axes\n",
        " - Data with x and y values should be presented using an xy scatter plot.\n",
        " - Label all axes and include units.\n",
        " - Axis scale labels should be in the margin of the graph, not inside the graph border.\n",
        " - If the x-axis is time, then make time zero the beginning of the test.\n",
        " - Eliminate ranges of the x and y axes that are not used or meaningful.\n",
        "\n",
        "Data Representation\n",
        " - Use data symbols, not a line, to show discrete data points.\n",
        " - However, if there is so much data that the symbols overlap, it is better to connect the data points with a line and not show the data symbols.\n",
        "\n",
        "Multiple Plots\n",
        " - When presenting multiple plots on a single graph make sure that it is easy to distinguish the plots using the legend.\n",
        "\n",
        "Curve Fitting\n",
        " - If curve fitting is used, explain why and include the equation elsewhere in the report.\n",
        " - The model or theoretical curve should be a smooth curve without data points.\n",
        "\n",
        "Here is an example graph:\n",
        "\n",
        " <center>\n",
        "   <img src=\"https://raw.githubusercontent.com/AguaClara/team_resources/master/Images/Turbidity.png\">\n",
        " </center>\n",
        "\n",
        " Figure 3. Descriptive captions are very important for figures. The code used to create this graph can be found in the Python Code section of this report."
      ]
    },
    {
      "cell_type": "markdown",
      "metadata": {
        "id": "4m-fx7GnC6a-"
      },
      "source": [
        "## Conclusions\n",
        "Explain what you have learned and how that influences your next steps. Why does what you discovered matter to AguaClara?\n",
        "\n",
        "Make sure that you have defended your conclusions with facts and results."
      ]
    },
    {
      "cell_type": "markdown",
      "metadata": {
        "id": "QbOeP4KiC7p2"
      },
      "source": [
        "## Future Work\n",
        "Describe your plan of action for the next several weeks of research. Detail the next steps for this team. How can AguaClara use what you discovered for future projects? Your suggestions for challenges for future teams are most welcome. Should research in this area continue?"
      ]
    },
    {
      "cell_type": "markdown",
      "metadata": {
        "id": "fZyCYDraC80B"
      },
      "source": [
        "## Bibliography\n",
        "Logan, B. E., Hermanowicz, S. W., & Parker,A. S. (1987). A Fundamental Model for Trickling Filter Process Design. Journal (Water Pollution Control Federation), 59(12), 1029–1042."
      ]
    },
    {
      "cell_type": "markdown",
      "metadata": {
        "id": "oDYGZ4TkC-H2"
      },
      "source": [
        "# Manual\n",
        "The goal of this section is to provide all of the guidance that would be necessary for a future team to pick up your work where you left off. Please try to be thorough and put yourselves in the shoes of a newcomer to the project. Below are some recommended sections, but the manual will likely take a slightly different form for each team."
      ]
    },
    {
      "cell_type": "markdown",
      "metadata": {
        "id": "kfka8Y62C_y-"
      },
      "source": [
        "## Fabrication Details\n",
        "Include any information related to the fabrication of equipment, technologies, or experimental apparatuses, such as\n",
        "\n",
        "* materials, with dimensions\n",
        "* fabrication methods and the purpose of each step\n",
        "* complications and constraints in construction\n",
        "* revisions made to a previous design, with a reference to the report where the design is described\n",
        "* appropriate safety precautions"
      ]
    },
    {
      "cell_type": "markdown",
      "metadata": {
        "id": "Gi1Zhpu9DBSv"
      },
      "source": [
        "## Special Components\n",
        "If your subteam uses a particular part that is unique and you could foresee a future subteam needing to order it or learn more about it, please include basic information such as its vendor, its catalog/item number, and a link to any documentation."
      ]
    },
    {
      "cell_type": "markdown",
      "metadata": {
        "id": "OH4T3NMQDE84"
      },
      "source": [
        "## Experimental Methods\n",
        "### Set-up\n",
        "Step 1.\n",
        "* Put tasks in a sequential order.\n",
        "* It is okay to have sub-lists.\n",
        "  - Like this.\n",
        "\n",
        "### Experiment\n",
        "Step 1.\n",
        "\n",
        "### Cleaning Procedure\n",
        "Step 1."
      ]
    },
    {
      "cell_type": "markdown",
      "metadata": {
        "id": "7Nhn0HGZpXsy"
      },
      "source": [
        "## Experimental Checklist\n",
        "Another potential section could include a list of things that you need to check before running an experiment."
      ]
    },
    {
      "cell_type": "markdown",
      "metadata": {
        "id": "cNK5GnhVpb74"
      },
      "source": [
        "## ProCoDA Method File\n",
        "\n",
        "**Upload your ProCoDA method file to your Github repository and provide a link it in your report.**\n",
        "\n",
        "Use the rest of this section to explain your method file. Your explanation can be broken up into several components as shown below:\n",
        "\n",
        "### States\n",
        "Here, you should describe the function of each state in your method file, both in terms of its overall purpose and also in terms of the details that make it distinct from other states. For example:\n",
        "\n",
        " - **OFF**: Resting state of ProCoDA. All sensors, relays, and pumps are turned off.\n",
        "\n",
        "### Set Points\n",
        "Here, you should list the set points used in your method file and explain their use as well as how each was calculated."
      ]
    },
    {
      "cell_type": "markdown",
      "metadata": {
        "id": "HCNXi5uiDFsw"
      },
      "source": [
        "## Python Code\n",
        "\n",
        "In this section, provide any code that was a significant part of your research, including in making theoretical calculations, determining parameters for your experiment, or analyzing your data. Make sure to display all outputs, as shown below."
      ]
    },
    {
      "cell_type": "code",
      "metadata": {
        "id": "CsiQ1OupEI4P",
        "colab": {
          "base_uri": "https://localhost:8080/",
          "height": 252
        },
        "outputId": "f5f728b9-37a3-475c-aef4-85cf35e55de5"
      },
      "source": [
        "!pip install aguaclara\n",
        "import aguaclara as ac\n",
        "from aguaclara.core.units import u\n",
        "import matplotlib.pyplot as plt"
      ],
      "execution_count": null,
      "outputs": [
        {
          "output_type": "stream",
          "text": [
            "Requirement already satisfied: aguaclara in /usr/local/lib/python3.6/dist-packages (0.2.0)\n",
            "Requirement already satisfied: scipy in /usr/local/lib/python3.6/dist-packages (from aguaclara) (1.4.1)\n",
            "Requirement already satisfied: urllib3 in /usr/local/lib/python3.6/dist-packages (from aguaclara) (1.24.3)\n",
            "Requirement already satisfied: pandas in /usr/local/lib/python3.6/dist-packages (from aguaclara) (0.25.3)\n",
            "Requirement already satisfied: pint==0.8.1 in /usr/local/lib/python3.6/dist-packages (from aguaclara) (0.8.1)\n",
            "Requirement already satisfied: matplotlib in /usr/local/lib/python3.6/dist-packages (from aguaclara) (3.1.3)\n",
            "Requirement already satisfied: numpy>=1.13.3 in /usr/local/lib/python3.6/dist-packages (from scipy->aguaclara) (1.17.5)\n",
            "Requirement already satisfied: python-dateutil>=2.6.1 in /usr/local/lib/python3.6/dist-packages (from pandas->aguaclara) (2.6.1)\n",
            "Requirement already satisfied: pytz>=2017.2 in /usr/local/lib/python3.6/dist-packages (from pandas->aguaclara) (2018.9)\n",
            "Requirement already satisfied: kiwisolver>=1.0.1 in /usr/local/lib/python3.6/dist-packages (from matplotlib->aguaclara) (1.1.0)\n",
            "Requirement already satisfied: cycler>=0.10 in /usr/local/lib/python3.6/dist-packages (from matplotlib->aguaclara) (0.10.0)\n",
            "Requirement already satisfied: pyparsing!=2.0.4,!=2.1.2,!=2.1.6,>=2.0.1 in /usr/local/lib/python3.6/dist-packages (from matplotlib->aguaclara) (2.4.6)\n",
            "Requirement already satisfied: six>=1.5 in /usr/local/lib/python3.6/dist-packages (from python-dateutil>=2.6.1->pandas->aguaclara) (1.12.0)\n",
            "Requirement already satisfied: setuptools in /usr/local/lib/python3.6/dist-packages (from kiwisolver>=1.0.1->matplotlib->aguaclara) (45.1.0)\n"
          ],
          "name": "stdout"
        }
      ]
    },
    {
      "cell_type": "markdown",
      "metadata": {
        "id": "NtF6hMF9EkG2"
      },
      "source": [
        "### Code for Figure 3"
      ]
    },
    {
      "cell_type": "code",
      "metadata": {
        "id": "CP_A9n8SDHf1",
        "colab": {
          "base_uri": "https://localhost:8080/",
          "height": 300
        },
        "outputId": "42a061d2-3675-49eb-c7be-44e07d10ad51"
      },
      "source": [
        "path = \"https://raw.githubusercontent.com/AguaClara/team_resources/master/Data/datalog%206-14-2018.xls\"\n",
        "\n",
        "time = ac.column_of_time(path=path, start=2250, end=5060).to(u.hr)\n",
        "influent_turbidity = ac.column_of_data(path=path, start=2250, column=3, end=5060)\n",
        "effluent_turbidity = ac.column_of_data(path=path, start=2250, column=4, end=5060)\n",
        "\n",
        "# set up multiple subplots with same x-axis\n",
        "fig, ax1 = plt.subplots()\n",
        "ax2 = ax1.twinx()\n",
        "\n",
        "# make the first subplot (Effluent Turbidity vs Time)\n",
        "ax1.set_xlabel(\"Time (hours)\")\n",
        "ax1.set_ylabel(\"Effluent Turbidity (NTU)\")\n",
        "line1, = ax1.plot(time, effluent_turbidity, color=\"blue\")\n",
        "\n",
        "# make the second subplot (Influent Turbidity vs Time)\n",
        "ax2.set_ylabel(\"Influent Turbidity (NTU)\")\n",
        "ax2.set_ylim(60,120)\n",
        "line2, = ax2.plot(time, influent_turbidity, color=\"green\")\n",
        "\n",
        "plt.legend((line1, line2), (\"Effluent\", \"Influent\"))\n"
      ],
      "execution_count": null,
      "outputs": [
        {
          "output_type": "execute_result",
          "data": {
            "text/plain": [
              "<matplotlib.legend.Legend at 0x7f46b9b526a0>"
            ]
          },
          "metadata": {
            "tags": []
          },
          "execution_count": 7
        },
        {
          "output_type": "display_data",
          "data": {
            "image/png": "[encoded data removed]",
            "text/plain": [
              "<Figure size 432x288 with 2 Axes>"
            ]
          },
          "metadata": {
            "tags": []
          }
        }
      ]
    },
    {
      "cell_type": "markdown",
      "metadata": {
        "id": "YWTxs8-PEV2J"
      },
      "source": [
        "### Code for Experimental Design\n",
        "Make sure variables in your code, as well as anything that might not be easily understood by a newcomer, is well commented. Also include the outputs of your code, if applicable and not given earlier in the report."
      ]
    },
    {
      "cell_type": "code",
      "metadata": {
        "id": "qQu_bRDMDLVm",
        "colab": {
          "base_uri": "https://localhost:8080/",
          "height": 101
        },
        "outputId": "4fdda5a6-3b7e-44d8-c795-dd48f3dc7097"
      },
      "source": [
        "import aguaclara as ac\n",
        "from aguaclara.core.units import u\n",
        "\n",
        "# volume per revolution flowing from the pump for PACl (coagulant) stock\n",
        "vol_per_rev_PACl = ac.vol_per_rev_3_stop(\"yellow-blue\")\n",
        "# revolutions per minute of PACl stock pump\n",
        "rpm_PACl = 3 * u.rev/u.min\n",
        "# flow rate from the PACl stock pump\n",
        "Q_PACl = ac.flow_rate(vol_per_rev_PACl, rpm_PACl)\n",
        "\n",
        "# desired system flow rate\n",
        "Q_sys = 2 * u.mL/u.s\n",
        "# desired system concentration of PACl\n",
        "C_sys = 1.4 * u.mg/u.L\n",
        "# a variable representing the reactor and its parameters\n",
        "reactor = ac.Variable_C_Stock(Q_sys, C_sys, Q_PACl)\n",
        "\n",
        "# required concentration of PACl stock\n",
        "C_stock_PACl = reactor.C_stock()\n",
        "# concentration of purchased PACl super stock in lab\n",
        "C_super_PACl = 70.28 * u.g/u.L\n",
        "# dilution factor of PACl super stock necessary to achieve PACl stock\n",
        "# concentration (in L of super stock per L water)\n",
        "dilution = reactor.dilution_factor(C_super_PACl)\n",
        "mL_per_L = dilution * 1000\n",
        "\n",
        "print(\"A reactor with a system flow rate of\", Q_sys, \",\")\n",
        "print(\"a system PACl concentration of\", C_sys, \",\")\n",
        "print(\"and a PACl stock flow rate of\", Q_PACl)\n",
        "print(\"will require a dilution factor of\", round(mL_per_L.magnitude, 3),\n",
        "  \"milliliters of PACl super\")\n",
        "print(\"stock per liter of water for the PACl stock.\")\n"
      ],
      "execution_count": null,
      "outputs": [
        {
          "output_type": "stream",
          "text": [
            "A reactor with a system flow rate of 2 milliliter / second ,\n",
            "a system PACl concentration of 1.4 milligram / liter ,\n",
            "and a PACl stock flow rate of 0.007442 milliliter / second\n",
            "will require a dilution factor of 5.353 milliliters of PACl super\n",
            "stock per liter of water for the PACl stock.\n"
          ],
          "name": "stdout"
        }
      ]
    },
    {
      "cell_type": "markdown",
      "metadata": {
        "id": "IeQmLmxyDSVY"
      },
      "source": [
        "<!-- DELETE THIS SECTION BEFORE SUBMITTING -->\n",
        "----------------------------------------------\n",
        "## Add/Delete/Change this Template as you see Fit\n",
        "When using this template keep in mind that this serves three purposes. The first is to provide your team feedback on your progress, assumptions, and conclusions. The second is to keep your team focused on what you are learning and doing for AguaClara. Another is to educate future teams on what you've learned and done. This document should be comprehensive, consistent, and well-written. With that in mind, add, subtract, or move sections. Reach out to the RAs and graders for help with figuring out what should or shouldn't include. Focus on how wonderful a reference you are making through this and work hard on communicating amongst yourselves and with future teammates."
      ]
    }
  ]
}